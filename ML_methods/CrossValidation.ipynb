{
 "cells": [
  {
   "cell_type": "code",
   "execution_count": 14,
   "metadata": {
    "collapsed": false,
    "scrolled": true
   },
   "outputs": [
    {
     "name": "stdout",
     "output_type": "stream",
     "text": [
      "The autoreload extension is already loaded. To reload it, use:\n",
      "  %reload_ext autoreload\n"
     ]
    }
   ],
   "source": [
    "# Useful starting lines\n",
    "%matplotlib inline\n",
    "import numpy as np\n",
    "import matplotlib.pyplot as plt\n",
    "%load_ext autoreload\n",
    "%autoreload 2\n",
    "from proj1_helpers import *\n",
    "from visualizations import bias_variance_demo, cross_validation_demo"
   ]
  },
  {
   "cell_type": "markdown",
   "metadata": {},
   "source": [
    "## Load the training data into feature matrix, class labels, and event ids:"
   ]
  },
  {
   "cell_type": "code",
   "execution_count": 3,
   "metadata": {
    "collapsed": true
   },
   "outputs": [],
   "source": [
    "from proj1_helpers import *\n",
    "DATA_TRAIN_PATH = '../Data/train.csv' # TODO: download train data and supply path here \n",
    "y, tX, ids = load_csv_data(DATA_TRAIN_PATH)"
   ]
  },
  {
   "cell_type": "code",
   "execution_count": 187,
   "metadata": {
    "collapsed": false,
    "scrolled": true
   },
   "outputs": [
    {
     "data": {
      "text/html": [
       "<div>\n",
       "<table border=\"1\" class=\"dataframe\">\n",
       "  <thead>\n",
       "    <tr style=\"text-align: right;\">\n",
       "      <th></th>\n",
       "      <th>0</th>\n",
       "      <th>1</th>\n",
       "      <th>2</th>\n",
       "      <th>3</th>\n",
       "      <th>4</th>\n",
       "      <th>5</th>\n",
       "      <th>6</th>\n",
       "      <th>7</th>\n",
       "      <th>8</th>\n",
       "      <th>9</th>\n",
       "      <th>...</th>\n",
       "      <th>19</th>\n",
       "      <th>20</th>\n",
       "      <th>21</th>\n",
       "      <th>22</th>\n",
       "      <th>23</th>\n",
       "      <th>24</th>\n",
       "      <th>25</th>\n",
       "      <th>26</th>\n",
       "      <th>27</th>\n",
       "      <th>28</th>\n",
       "    </tr>\n",
       "  </thead>\n",
       "  <tbody>\n",
       "    <tr>\n",
       "      <th>0</th>\n",
       "      <td>138.470</td>\n",
       "      <td>51.655</td>\n",
       "      <td>97.827</td>\n",
       "      <td>27.980</td>\n",
       "      <td>0.910</td>\n",
       "      <td>124.711</td>\n",
       "      <td>2.666</td>\n",
       "      <td>3.064</td>\n",
       "      <td>41.928</td>\n",
       "      <td>197.760</td>\n",
       "      <td>...</td>\n",
       "      <td>16.824</td>\n",
       "      <td>-0.277</td>\n",
       "      <td>258.733</td>\n",
       "      <td>67.435</td>\n",
       "      <td>2.150</td>\n",
       "      <td>0.444</td>\n",
       "      <td>46.062</td>\n",
       "      <td>1.24</td>\n",
       "      <td>-2.475</td>\n",
       "      <td>113.497</td>\n",
       "    </tr>\n",
       "    <tr>\n",
       "      <th>1</th>\n",
       "      <td>160.937</td>\n",
       "      <td>68.768</td>\n",
       "      <td>103.235</td>\n",
       "      <td>48.146</td>\n",
       "      <td>2.107</td>\n",
       "      <td>225.885</td>\n",
       "      <td>-0.244</td>\n",
       "      <td>3.473</td>\n",
       "      <td>2.078</td>\n",
       "      <td>125.157</td>\n",
       "      <td>...</td>\n",
       "      <td>44.704</td>\n",
       "      <td>-1.916</td>\n",
       "      <td>164.546</td>\n",
       "      <td>46.226</td>\n",
       "      <td>0.725</td>\n",
       "      <td>1.158</td>\n",
       "      <td>47.902</td>\n",
       "      <td>-0.01</td>\n",
       "      <td>-0.002</td>\n",
       "      <td>46.226</td>\n",
       "    </tr>\n",
       "    <tr>\n",
       "      <th>2</th>\n",
       "      <td>112.406</td>\n",
       "      <td>162.172</td>\n",
       "      <td>125.953</td>\n",
       "      <td>35.635</td>\n",
       "      <td>2.107</td>\n",
       "      <td>225.885</td>\n",
       "      <td>-0.244</td>\n",
       "      <td>3.148</td>\n",
       "      <td>9.336</td>\n",
       "      <td>197.814</td>\n",
       "      <td>...</td>\n",
       "      <td>54.283</td>\n",
       "      <td>-2.186</td>\n",
       "      <td>260.414</td>\n",
       "      <td>44.251</td>\n",
       "      <td>2.053</td>\n",
       "      <td>-2.028</td>\n",
       "      <td>47.902</td>\n",
       "      <td>-0.01</td>\n",
       "      <td>-0.002</td>\n",
       "      <td>44.251</td>\n",
       "    </tr>\n",
       "    <tr>\n",
       "      <th>3</th>\n",
       "      <td>143.905</td>\n",
       "      <td>81.417</td>\n",
       "      <td>80.943</td>\n",
       "      <td>0.414</td>\n",
       "      <td>2.107</td>\n",
       "      <td>225.885</td>\n",
       "      <td>-0.244</td>\n",
       "      <td>3.310</td>\n",
       "      <td>0.414</td>\n",
       "      <td>75.968</td>\n",
       "      <td>...</td>\n",
       "      <td>31.082</td>\n",
       "      <td>0.060</td>\n",
       "      <td>86.062</td>\n",
       "      <td>65.561</td>\n",
       "      <td>0.000</td>\n",
       "      <td>-0.033</td>\n",
       "      <td>47.902</td>\n",
       "      <td>-0.01</td>\n",
       "      <td>-0.002</td>\n",
       "      <td>0.000</td>\n",
       "    </tr>\n",
       "    <tr>\n",
       "      <th>4</th>\n",
       "      <td>175.864</td>\n",
       "      <td>16.915</td>\n",
       "      <td>134.805</td>\n",
       "      <td>16.405</td>\n",
       "      <td>2.107</td>\n",
       "      <td>225.885</td>\n",
       "      <td>-0.244</td>\n",
       "      <td>3.891</td>\n",
       "      <td>16.405</td>\n",
       "      <td>57.983</td>\n",
       "      <td>...</td>\n",
       "      <td>2.723</td>\n",
       "      <td>-0.871</td>\n",
       "      <td>53.131</td>\n",
       "      <td>65.561</td>\n",
       "      <td>0.000</td>\n",
       "      <td>-0.033</td>\n",
       "      <td>47.902</td>\n",
       "      <td>-0.01</td>\n",
       "      <td>-0.002</td>\n",
       "      <td>0.000</td>\n",
       "    </tr>\n",
       "  </tbody>\n",
       "</table>\n",
       "<p>5 rows × 29 columns</p>\n",
       "</div>"
      ],
      "text/plain": [
       "        0        1        2       3      4        5      6      7       8   \\\n",
       "0  138.470   51.655   97.827  27.980  0.910  124.711  2.666  3.064  41.928   \n",
       "1  160.937   68.768  103.235  48.146  2.107  225.885 -0.244  3.473   2.078   \n",
       "2  112.406  162.172  125.953  35.635  2.107  225.885 -0.244  3.148   9.336   \n",
       "3  143.905   81.417   80.943   0.414  2.107  225.885 -0.244  3.310   0.414   \n",
       "4  175.864   16.915  134.805  16.405  2.107  225.885 -0.244  3.891  16.405   \n",
       "\n",
       "        9    ...         19     20       21      22     23     24      25  \\\n",
       "0  197.760   ...     16.824 -0.277  258.733  67.435  2.150  0.444  46.062   \n",
       "1  125.157   ...     44.704 -1.916  164.546  46.226  0.725  1.158  47.902   \n",
       "2  197.814   ...     54.283 -2.186  260.414  44.251  2.053 -2.028  47.902   \n",
       "3   75.968   ...     31.082  0.060   86.062  65.561  0.000 -0.033  47.902   \n",
       "4   57.983   ...      2.723 -0.871   53.131  65.561  0.000 -0.033  47.902   \n",
       "\n",
       "     26     27       28  \n",
       "0  1.24 -2.475  113.497  \n",
       "1 -0.01 -0.002   46.226  \n",
       "2 -0.01 -0.002   44.251  \n",
       "3 -0.01 -0.002    0.000  \n",
       "4 -0.01 -0.002    0.000  \n",
       "\n",
       "[5 rows x 29 columns]"
      ]
     },
     "execution_count": 187,
     "metadata": {},
     "output_type": "execute_result"
    }
   ],
   "source": [
    "import pandas as pd\n",
    "# we can't use pandas but we are just showing the total dataframe\n",
    "pd.DataFrame(tX).head()"
   ]
  },
  {
   "cell_type": "code",
   "execution_count": null,
   "metadata": {
    "collapsed": false
   },
   "outputs": [],
   "source": [
    "tX.shape"
   ]
  },
  {
   "cell_type": "code",
   "execution_count": null,
   "metadata": {
    "collapsed": false,
    "scrolled": true
   },
   "outputs": [],
   "source": []
  },
  {
   "cell_type": "markdown",
   "metadata": {},
   "source": [
    "# Data Pre-Processing"
   ]
  },
  {
   "cell_type": "markdown",
   "metadata": {},
   "source": [
    "### removing -999s"
   ]
  },
  {
   "cell_type": "code",
   "execution_count": 16,
   "metadata": {
    "collapsed": true
   },
   "outputs": [],
   "source": [
    "for col in tX.T:\n",
    "    med = np.median(col[col != -999])\n",
    "    col[col == -999] = med"
   ]
  },
  {
   "cell_type": "markdown",
   "metadata": {},
   "source": [
    "### removing 22nd Index"
   ]
  },
  {
   "cell_type": "code",
   "execution_count": 17,
   "metadata": {
    "collapsed": true
   },
   "outputs": [],
   "source": [
    "model_index = tX[:, 22] # model index is useful later on to select only the indices where categorical variable = 0,1,2,3\n",
    "\n",
    "#remove model index column from tx\n",
    "tX = np.delete(tX, 22, 1)"
   ]
  },
  {
   "cell_type": "code",
   "execution_count": 127,
   "metadata": {
    "collapsed": false
   },
   "outputs": [
    {
     "data": {
      "text/plain": [
       "(250000,)"
      ]
     },
     "execution_count": 127,
     "metadata": {},
     "output_type": "execute_result"
    }
   ],
   "source": [
    "model_index.shape"
   ]
  },
  {
   "cell_type": "code",
   "execution_count": 128,
   "metadata": {
    "collapsed": false,
    "scrolled": true
   },
   "outputs": [
    {
     "data": {
      "text/plain": [
       "array([ 2.,  1.,  1., ...,  1.,  0.,  0.])"
      ]
     },
     "execution_count": 128,
     "metadata": {},
     "output_type": "execute_result"
    }
   ],
   "source": [
    "model_index"
   ]
  },
  {
   "cell_type": "markdown",
   "metadata": {},
   "source": [
    "## Build list of polynomials"
   ]
  },
  {
   "cell_type": "markdown",
   "metadata": {},
   "source": [
    "We built a tX with 10 degrees, then extract tX as we need... \n",
    "\n",
    "# don't need to run tX10! just run [211], it is saved."
   ]
  },
  {
   "cell_type": "code",
   "execution_count": 87,
   "metadata": {
    "collapsed": true
   },
   "outputs": [],
   "source": [
    "# building a polynomial matrix of degree 10\n",
    "tX_10 = build_poly3(tX,10)"
   ]
  },
  {
   "cell_type": "code",
   "execution_count": 210,
   "metadata": {
    "collapsed": true
   },
   "outputs": [],
   "source": [
    "import pickle\n",
    "pickle.dump( tX_10, open( \"tX_10.p\", \"wb\" ) )"
   ]
  },
  {
   "cell_type": "code",
   "execution_count": 211,
   "metadata": {
    "collapsed": true
   },
   "outputs": [],
   "source": [
    "tX_10 = pickle.load( open( \"tX_10.p\", \"rb\" ) )"
   ]
  },
  {
   "cell_type": "code",
   "execution_count": 89,
   "metadata": {
    "collapsed": false
   },
   "outputs": [
    {
     "data": {
      "text/plain": [
       "(250000, 290)"
      ]
     },
     "execution_count": 89,
     "metadata": {},
     "output_type": "execute_result"
    }
   ],
   "source": [
    "tX_10.shape"
   ]
  },
  {
   "cell_type": "code",
   "execution_count": 119,
   "metadata": {
    "collapsed": true
   },
   "outputs": [],
   "source": [
    "Fused = np.c_[y, tX_10] # combining tX_10 with y"
   ]
  },
  {
   "cell_type": "code",
   "execution_count": 129,
   "metadata": {
    "collapsed": true
   },
   "outputs": [],
   "source": [
    "# builds the tX specific polynomial degree\n",
    "def build_poly_d(tX_all_degree, degree):\n",
    "    index = list()\n",
    "    index.append(0)\n",
    "    for i in range(0,29): # tX.shape[1] is 29, \n",
    "        for d in range(1,degree+1): # up to degree 10 for example\n",
    "            index.append(i*10+d) # [1,11,...,281]\n",
    "    return tX_all_degree[:,index]"
   ]
  },
  {
   "cell_type": "code",
   "execution_count": 212,
   "metadata": {
    "collapsed": false
   },
   "outputs": [],
   "source": [
    "max_degree = 10\n",
    "tX_list = list()\n",
    "# takes a long time to run, run only once!!!\n",
    "for degree in range(1,max_degree+1):\n",
    "    tX_list.append(build_poly_d(Fused, degree))"
   ]
  },
  {
   "cell_type": "code",
   "execution_count": 136,
   "metadata": {
    "collapsed": false,
    "scrolled": false
   },
   "outputs": [
    {
     "data": {
      "text/plain": [
       "(250000, 291)"
      ]
     },
     "execution_count": 136,
     "metadata": {},
     "output_type": "execute_result"
    }
   ],
   "source": [
    "tX_list[9].shape # polynomial with degrees 1 2 3... 10"
   ]
  },
  {
   "cell_type": "code",
   "execution_count": 104,
   "metadata": {
    "collapsed": false
   },
   "outputs": [
    {
     "name": "stdout",
     "output_type": "stream",
     "text": [
      "[1, 2, 11, 12, 21, 22, 31, 32, 41, 42, 51, 52, 61, 62, 71, 72, 81, 82, 91, 92, 101, 102, 111, 112, 121, 122, 131, 132, 141, 142, 151, 152, 161, 162, 171, 172, 181, 182, 191, 192, 201, 202, 211, 212, 221, 222, 231, 232, 241, 242, 251, 252, 261, 262, 271, 272, 281, 282]\n"
     ]
    },
    {
     "data": {
      "text/plain": [
       "(250000, 58)"
      ]
     },
     "execution_count": 104,
     "metadata": {},
     "output_type": "execute_result"
    }
   ],
   "source": [
    "build_poly_d(tX_10,2).shape"
   ]
  },
  {
   "cell_type": "code",
   "execution_count": null,
   "metadata": {
    "collapsed": true
   },
   "outputs": [],
   "source": [
    "Fused = np.c_[y, tX_10]"
   ]
  },
  {
   "cell_type": "markdown",
   "metadata": {},
   "source": [
    "### Building Polynomial Matrix"
   ]
  },
  {
   "cell_type": "code",
   "execution_count": 5,
   "metadata": {
    "collapsed": true
   },
   "outputs": [],
   "source": []
  },
  {
   "cell_type": "code",
   "execution_count": 6,
   "metadata": {
    "collapsed": true
   },
   "outputs": [],
   "source": [
    "# x is one column\n",
    "def build_poly_one_column(x, degree):\n",
    "    \"\"\"polynomial basis functions for input data x, for j=0 up to j=degree.\"\"\"\n",
    "    size = (x.shape[0])*(degree)\n",
    "    phi = list()\n",
    "    \n",
    "    for i in range(0, x.shape[0]):\n",
    "        for j in range(1, degree+1):\n",
    "            index = j + i*(degree+1)\n",
    "            phi.append(np.power(x[i], j))\n",
    "            \n",
    "    return np.array(phi).reshape((1, size))\n",
    "\n",
    "#polyX = np.full((tX.shape[0], tX.shape[1] * (degree+1)), 0.0)\n",
    "# tX is a multidimensional array\n",
    "def build_poly3(tX, degree):\n",
    "    polyX = list()\n",
    "    for row in tX:\n",
    "        polyX.append(build_poly_one_column(row, degree))\n",
    "\n",
    "    PolyXNP = np.array(polyX)\n",
    "    PolyXNP2 = PolyXNP.reshape((PolyXNP.shape[0], PolyXNP.shape[2]))\n",
    "\n",
    "    return PolyXNP2\n",
    "    #Standardize\n",
    "    PolyXNP2 = standardize(PolyXNP2)\n",
    "    "
   ]
  },
  {
   "cell_type": "markdown",
   "metadata": {},
   "source": [
    "### Standardizing Matrix Columns"
   ]
  },
  {
   "cell_type": "code",
   "execution_count": 150,
   "metadata": {
    "collapsed": true
   },
   "outputs": [],
   "source": [
    "# standardize such that the mean is 0 and standard deviation is 1.\n",
    "# X is a multi-dimensional array\n",
    "def standardize2(X):\n",
    "    X = (X - np.mean(X)) / np.std(X)\n",
    "    X = np.hstack((np.ones((X.shape[0],1)), X)) # adding column of ones for the first column\n",
    "    return X"
   ]
  },
  {
   "cell_type": "markdown",
   "metadata": {},
   "source": [
    "## Cross Validation"
   ]
  },
  {
   "cell_type": "code",
   "execution_count": 204,
   "metadata": {
    "collapsed": true
   },
   "outputs": [],
   "source": [
    "def cross_validation_rr(y, x, k_indices, k, lambda_):\n",
    "    \"\"\"return the loss of ridge regression.\"\"\"\n",
    "    \n",
    "    # empty array for computing the mean for each hold\n",
    "    loss_tr_arr = [] \n",
    "    loss_te_arr = [] \n",
    "    \n",
    "    for k in range(0,k):\n",
    "        # get k'th subgroup in test, others in train\n",
    "        x_test = x[k_indices[k],:]\n",
    "        y_test = y[k_indices[k]]\n",
    "        x_train = np.delete(x, k_indices[k], axis=0)\n",
    "        y_train = np.delete(y, k_indices[k])\n",
    "        \n",
    "        # ridge regression\n",
    "        loss_tr, weights = ridge_regression(y_train, x_train, lambda_)\n",
    "        loss_te = compute_loss(y_test,x_test,weights)\n",
    "        rmse_tr = np.sqrt(2*loss_tr)\n",
    "        rmse_te = np.sqrt(2*loss_te)\n",
    "        \n",
    "        loss_tr_arr.append(rmse_tr)\n",
    "        loss_te_arr.append(rmse_te)\n",
    "        \n",
    "    # calculate the loss for train and test data\n",
    "    loss_tr = np.sqrt(np.mean(np.power(loss_tr_arr,2)))\n",
    "    loss_te = np.sqrt(np.mean(np.power(loss_te_arr,2)))\n",
    "    \n",
    "    return loss_tr, loss_te"
   ]
  },
  {
   "cell_type": "code",
   "execution_count": 205,
   "metadata": {
    "collapsed": true
   },
   "outputs": [],
   "source": [
    "from plots import cross_validation_visualization\n",
    "def cross_validation_demo(tX, y, k_fold):\n",
    "    \"\"\"Generating the cv visualization for one example.\"\"\"\n",
    "    seed = 1\n",
    "    lambdas = np.logspace(-5, 2, 20)\n",
    "    # split data in k fold\n",
    "    k_indices = build_k_indices(y, k_fold, seed)\n",
    "    # define lists to store the loss of training data and test data\n",
    "    rmse_tr = []\n",
    "    rmse_te = []\n",
    "    \n",
    "    # cross validation: TODO\n",
    "    for lambda_ in lambdas:\n",
    "        loss_tr, loss_te = cross_validation_rr(y, tX, k_indices, k_fold, lambda_)\n",
    "        rmse_tr.append(loss_tr)\n",
    "        rmse_te.append(loss_te)\n",
    "    \n",
    "    cross_validation_visualization(lambdas, rmse_tr, rmse_te)"
   ]
  },
  {
   "cell_type": "markdown",
   "metadata": {},
   "source": [
    "## One Model"
   ]
  },
  {
   "cell_type": "code",
   "execution_count": 189,
   "metadata": {
    "collapsed": false
   },
   "outputs": [
    {
     "data": {
      "image/png": "[encoded data removed]",
      "text/plain": [
       "<matplotlib.figure.Figure at 0x128304780>"
      ]
     },
     "metadata": {},
     "output_type": "display_data"
    }
   ],
   "source": [
    "cross_validation_demo(x0,y0,10)"
   ]
  },
  {
   "cell_type": "markdown",
   "metadata": {},
   "source": [
    "## Four Model"
   ]
  },
  {
   "cell_type": "markdown",
   "metadata": {},
   "source": [
    "## Degree 3\n",
    "\n",
    "See below!! Right now x0,x1,...y0,y1 all defined manually\n",
    "\n",
    "This is what we need to choose best lambda for ridge regression.\n",
    "We also need to choose degree and k-fold. Maybe do research on theory with how to select lambda, degree, and k for k-fold?"
   ]
  },
  {
   "cell_type": "code",
   "execution_count": 206,
   "metadata": {
    "collapsed": false,
    "scrolled": true
   },
   "outputs": [
    {
     "data": {
      "image/png": "[encoded data removed]",
      "text/plain": [
       "<matplotlib.figure.Figure at 0x10c9f3048>"
      ]
     },
     "metadata": {},
     "output_type": "display_data"
    }
   ],
   "source": [
    "cross_validation_demo(x0,y0,10)"
   ]
  },
  {
   "cell_type": "code",
   "execution_count": 207,
   "metadata": {
    "collapsed": false
   },
   "outputs": [
    {
     "data": {
      "image/png": "[encoded data removed]",
      "text/plain": [
       "<matplotlib.figure.Figure at 0x10c4c72e8>"
      ]
     },
     "metadata": {},
     "output_type": "display_data"
    }
   ],
   "source": [
    "# model 1, the error is extremely small.\n",
    "# lambda = 10\n",
    "cross_validation_demo(x1,y1,10)"
   ]
  },
  {
   "cell_type": "code",
   "execution_count": 208,
   "metadata": {
    "collapsed": false
   },
   "outputs": [
    {
     "data": {
      "image/png": "[encoded data removed]",
      "text/plain": [
       "<matplotlib.figure.Figure at 0x128bf3940>"
      ]
     },
     "metadata": {},
     "output_type": "display_data"
    }
   ],
   "source": [
    "cross_validation_demo(x2,y2,10)"
   ]
  },
  {
   "cell_type": "code",
   "execution_count": 209,
   "metadata": {
    "collapsed": false,
    "scrolled": true
   },
   "outputs": [
    {
     "data": {
      "image/png": "[encoded data removed]",
      "text/plain": [
       "<matplotlib.figure.Figure at 0x121952160>"
      ]
     },
     "metadata": {},
     "output_type": "display_data"
    }
   ],
   "source": [
    "cross_validation_demo(x3,y3,10)"
   ]
  },
  {
   "cell_type": "code",
   "execution_count": 196,
   "metadata": {
    "collapsed": false
   },
   "outputs": [
    {
     "data": {
      "image/png": "[encoded data removed]",
      "text/plain": [
       "<matplotlib.figure.Figure at 0x10c4d7f98>"
      ]
     },
     "metadata": {},
     "output_type": "display_data"
    }
   ],
   "source": [
    "cross_validation_demo(x3_4,y3_4,10)"
   ]
  },
  {
   "cell_type": "code",
   "execution_count": null,
   "metadata": {
    "collapsed": true
   },
   "outputs": [],
   "source": []
  },
  {
   "cell_type": "code",
   "execution_count": 188,
   "metadata": {
    "collapsed": true
   },
   "outputs": [],
   "source": [
    "# without split\n",
    "x = tX_list[3] # degree 3\n",
    "y0 = x[:,0]\n",
    "x0 = x[:,1:x.shape[1]]\n",
    "x0 = standardize2(x0)"
   ]
  },
  {
   "cell_type": "code",
   "execution_count": 151,
   "metadata": {
    "collapsed": false
   },
   "outputs": [],
   "source": [
    "# degree 3\n",
    "Fused_0 = tX_list[3][model_index == 0.0] # degree 3\n",
    "y0 = Fused_0[:,0]\n",
    "x0 = Fused_0[:,1:Fused_0.shape[1]]\n",
    "x0 = standardize2(x0)\n",
    "\n",
    "Fused_1 = tX_list[3][model_index == 1.0] # degree 3\n",
    "y1 = Fused_1[:,0]\n",
    "x1 = Fused_1[:,1:Fused_1.shape[1]]\n",
    "x1 = standardize2(x1)\n",
    "\n",
    "Fused_2 = tX_list[3][model_index == 2.0] # degree 3\n",
    "y2 = Fused_2[:,0]\n",
    "x2 = Fused_2[:,1:Fused_2.shape[1]]\n",
    "x2 = standardize2(x2)\n",
    "\n",
    "Fused_3 = tX_list[3][model_index == 3.0] # degree 3\n",
    "y3 = Fused_3[:,0]\n",
    "x3 = Fused_3[:,1:Fused_3.shape[1]]\n",
    "x3 = standardize2(x3)"
   ]
  },
  {
   "cell_type": "code",
   "execution_count": null,
   "metadata": {
    "collapsed": true
   },
   "outputs": [],
   "source": [
    "# degree 4\n",
    "Fused_0 = tX_list[4][model_index == 0.0] # degree 3\n",
    "y0 = Fused_0[:,0]\n",
    "x0 = Fused_0[:,1:Fused_0.shape[1]]\n",
    "x0 = standardize2(x0)\n",
    "\n",
    "Fused_1 = tX_list[4][model_index == 1.0] # degree 3\n",
    "y1 = Fused_1[:,0]\n",
    "x1 = Fused_1[:,1:Fused_1.shape[1]]\n",
    "x1 = standardize2(x1)\n",
    "\n",
    "Fused_2 = tX_list[4][model_index == 2.0] # degree 3\n",
    "y2 = Fused_2[:,0]\n",
    "x2 = Fused_2[:,1:Fused_2.shape[1]]\n",
    "x2 = standardize2(x2)\n",
    "\n",
    "Fused_3_4 = tX_list[4][model_index == 3.0] # degree 3\n",
    "y3_4 = Fused_3[:,0]\n",
    "x3_4 = Fused_3[:,1:Fused_3.shape[1]]\n",
    "x3_4 = standardize2(x3_4)"
   ]
  },
  {
   "cell_type": "code",
   "execution_count": 195,
   "metadata": {
    "collapsed": true
   },
   "outputs": [],
   "source": [
    "Fused_3_4 = tX_list[4][model_index == 3.0] # degree 3\n",
    "y3_4 = Fused_3_4[:,0]\n",
    "x3_4 = Fused_3_4[:,1:Fused_3_4.shape[1]]\n",
    "x3_4 = standardize2(x3_4)"
   ]
  },
  {
   "cell_type": "code",
   "execution_count": 197,
   "metadata": {
    "collapsed": true
   },
   "outputs": [],
   "source": [
    "Fused_3_1 = tX_list[1][model_index == 3.0] # degree 3\n",
    "y3_1 = Fused_3_1[:,0]\n",
    "x3_1 = Fused_3_1[:,1:Fused_3_1.shape[1]]\n",
    "x3_1 = standardize2(x3_1)"
   ]
  },
  {
   "cell_type": "code",
   "execution_count": null,
   "metadata": {
    "collapsed": true
   },
   "outputs": [],
   "source": [
    "# degree 3\n",
    "Fused_0 = tX_list[3][model_index == 0.0] # degree 3\n",
    "y0 = Fused_0[:,0]\n",
    "x0 = Fused_0[:,1:Fused_0.shape[1]]\n",
    "x0 = standardize2(x0)"
   ]
  }
 ],
 "metadata": {
  "anaconda-cloud": {},
  "kernelspec": {
   "display_name": "Python [Root]",
   "language": "python",
   "name": "Python [Root]"
  },
  "language_info": {
   "codemirror_mode": {
    "name": "ipython",
    "version": 3
   },
   "file_extension": ".py",
   "mimetype": "text/x-python",
   "name": "python",
   "nbconvert_exporter": "python",
   "pygments_lexer": "ipython3",
   "version": "3.5.2"
  }
 },
 "nbformat": 4,
 "nbformat_minor": 0
}
