{
 "cells": [
  {
   "cell_type": "markdown",
   "metadata": {},
   "source": [
    "First do everything in Python"
   ]
  },
  {
   "cell_type": "code",
   "execution_count": 5,
   "metadata": {
    "collapsed": false
   },
   "outputs": [
    {
     "name": "stdout",
     "output_type": "stream",
     "text": [
      "The autoreload extension is already loaded. To reload it, use:\n",
      "  %reload_ext autoreload\n"
     ]
    }
   ],
   "source": [
    "# Useful starting lines\n",
    "%matplotlib inline\n",
    "import numpy as np\n",
    "import matplotlib.pyplot as plt\n",
    "%load_ext autoreload\n",
    "%autoreload 2\n",
    "from sklearn import preprocessing"
   ]
  },
  {
   "cell_type": "markdown",
   "metadata": {},
   "source": [
    "## Load the training data into feature matrix, class labels, and event ids:"
   ]
  },
  {
   "cell_type": "code",
   "execution_count": 2,
   "metadata": {
    "collapsed": false
   },
   "outputs": [],
   "source": [
    "from proj1_helpers import *\n",
    "DATA_TRAIN_PATH = '../Data/train.csv' # TODO: download train data and supply path here \n",
    "y, tX, ids = load_csv_data(DATA_TRAIN_PATH)"
   ]
  },
  {
   "cell_type": "code",
   "execution_count": null,
   "metadata": {
    "collapsed": true
   },
   "outputs": [],
   "source": [
    "tX.shape"
   ]
  },
  {
   "cell_type": "code",
   "execution_count": 6,
   "metadata": {
    "collapsed": false
   },
   "outputs": [],
   "source": [
    "tX_scaled = preprocessing.scale(tX)"
   ]
  },
  {
   "cell_type": "code",
   "execution_count": 10,
   "metadata": {
    "collapsed": false,
    "scrolled": true
   },
   "outputs": [
    {
     "data": {
      "text/plain": [
       "array([ 1.,  1.,  1.,  1.,  1.,  1.,  1.,  1.,  1.,  1.,  1.,  1.,  1.,\n",
       "        1.,  1.,  1.,  1.,  1.,  1.,  1.,  1.,  1.,  1.,  1.,  1.,  1.,\n",
       "        1.,  1.,  1.,  1.])"
      ]
     },
     "execution_count": 10,
     "metadata": {},
     "output_type": "execute_result"
    }
   ],
   "source": [
    "tX_scaled.std(axis=0)"
   ]
  },
  {
   "cell_type": "code",
   "execution_count": 21,
   "metadata": {
    "collapsed": false
   },
   "outputs": [
    {
     "data": {
      "text/plain": [
       "array([ -2.50602916e-15,   4.49575133e-15,  -3.48448848e-15,\n",
       "         7.18646387e-15,  -2.36304576e-14,  -3.26035021e-15,\n",
       "         1.26038877e-14,   2.16223188e-14,   6.40057962e-15,\n",
       "         2.86143687e-15,  -6.98486646e-15,   3.63458152e-15,\n",
       "        -1.27422117e-14,  -5.95722149e-15,   1.35646161e-16,\n",
       "         7.13136217e-17,   2.58023760e-14,  -1.06327391e-16,\n",
       "        -1.87188487e-16,   8.24115935e-15,   1.41040513e-16,\n",
       "        -8.99509711e-15,  -6.01698247e-16,  -4.92204144e-15,\n",
       "         3.11615622e-15,  -1.67606551e-15,  -9.40773592e-15,\n",
       "         1.79148900e-14,  -5.09692022e-15,  -1.77122317e-15])"
      ]
     },
     "execution_count": 21,
     "metadata": {},
     "output_type": "execute_result"
    }
   ],
   "source": [
    "tX_scaled.mean(axis=0)"
   ]
  },
  {
   "cell_type": "code",
   "execution_count": 11,
   "metadata": {
    "collapsed": true
   },
   "outputs": [],
   "source": [
    "tX_normalized = preprocessing.normalize(tX_scaled, norm='l2')"
   ]
  },
  {
   "cell_type": "code",
   "execution_count": 13,
   "metadata": {
    "collapsed": true
   },
   "outputs": [
    {
     "data": {
      "text/plain": [
       "array([[ 0.08424028,  0.01247536,  0.07443017, ...,  0.28605061,\n",
       "         0.28455068,  0.07531202],\n",
       "       [ 0.12311696,  0.1316473 ,  0.12870024, ..., -0.15234416,\n",
       "        -0.15234425, -0.06524406],\n",
       "       [-0.33675062,  0.4602376 ,  0.15795104, ..., -0.09209584,\n",
       "        -0.09209589, -0.0423441 ],\n",
       "       ..., \n",
       "       [ 0.1104989 ,  0.09281144, -0.03803639, ..., -0.18583613,\n",
       "        -0.18583624, -0.09214316],\n",
       "       [ 0.07326994, -0.17480727, -0.06265284, ..., -0.13221667,\n",
       "        -0.13221675, -0.15415182],\n",
       "       [-0.46626531,  0.1326954 , -0.05056287, ..., -0.12751601,\n",
       "        -0.12751609, -0.1486713 ]])"
      ]
     },
     "execution_count": 13,
     "metadata": {},
     "output_type": "execute_result"
    }
   ],
   "source": [
    "tX_normalized"
   ]
  },
  {
   "cell_type": "code",
   "execution_count": 15,
   "metadata": {
    "collapsed": true
   },
   "outputs": [],
   "source": [
    "tX = tX_normalized"
   ]
  },
  {
   "cell_type": "markdown",
   "metadata": {},
   "source": [
    "## Training:"
   ]
  },
  {
   "cell_type": "code",
   "execution_count": 16,
   "metadata": {
    "collapsed": false
   },
   "outputs": [],
   "source": [
    "from ml_functions import *\n",
    "\n",
    "#First we build a polynomial model to represent the features\n",
    "#phi = build_poly(tX, 2)\n",
    "\n",
    "gamma = 0.1\n",
    "max_iters = 30\n",
    "w_initial = np.full((tX.shape[1]), 0.0)\n",
    "'''w_initial, gamma,  max_iters'''\n",
    "w = least_squares(y, tX)\n",
    "w = logistic_regression(y,tX,gamma,max_iters)"
   ]
  },
  {
   "cell_type": "code",
   "execution_count": 17,
   "metadata": {
    "collapsed": false
   },
   "outputs": [],
   "source": [
    "w\n",
    "weights = w"
   ]
  },
  {
   "cell_type": "markdown",
   "metadata": {},
   "source": [
    "## Generate predictions and save ouput in csv format for submission:"
   ]
  },
  {
   "cell_type": "code",
   "execution_count": 18,
   "metadata": {
    "collapsed": false
   },
   "outputs": [],
   "source": [
    "DATA_TEST_PATH = '../Data/test.csv' # TODO: download train data and supply path here \n",
    "_, tX_test, ids_test = load_csv_data(DATA_TEST_PATH)"
   ]
  },
  {
   "cell_type": "markdown",
   "metadata": {},
   "source": [
    "Processing test data"
   ]
  },
  {
   "cell_type": "code",
   "execution_count": 19,
   "metadata": {
    "collapsed": false
   },
   "outputs": [],
   "source": [
    "tX_test_scaled = preprocessing.scale(tX_test)\n",
    "tX_test_normalized = preprocessing.normalize(tX_test_scaled, norm='l2')\n",
    "tX_test = tX_test_normalized"
   ]
  },
  {
   "cell_type": "code",
   "execution_count": 25,
   "metadata": {
    "collapsed": false
   },
   "outputs": [
    {
     "data": {
      "text/plain": [
       "array([[-0.44235117,  0.16196604, -0.26713666, ..., -0.12112799,\n",
       "        -0.12112806, -0.14062798],\n",
       "       [ 0.10196931,  0.13747681,  0.04501522, ..., -0.17104332,\n",
       "        -0.17104342, -0.06963535],\n",
       "       [ 0.09754712,  0.04682163,  0.08953039, ..., -0.15242783,\n",
       "        -0.15242792, -0.17696668],\n",
       "       ..., \n",
       "       [ 0.0913366 , -0.26270884, -0.09308614, ..., -0.15116266,\n",
       "        -0.15116275, -0.17549783],\n",
       "       [ 0.09828141, -0.22676242, -0.09612645, ..., -0.1758375 ,\n",
       "        -0.17583761, -0.11815167],\n",
       "       [ 0.07953901,  0.19949546, -0.01981061, ..., -0.14668002,\n",
       "        -0.1466801 , -0.17029355]])"
      ]
     },
     "execution_count": 25,
     "metadata": {},
     "output_type": "execute_result"
    }
   ],
   "source": [
    "tX_test"
   ]
  },
  {
   "cell_type": "code",
   "execution_count": 24,
   "metadata": {
    "collapsed": false
   },
   "outputs": [
    {
     "data": {
      "text/plain": [
       "(568238, 30)"
      ]
     },
     "execution_count": 24,
     "metadata": {},
     "output_type": "execute_result"
    }
   ],
   "source": [
    "tX_test.shape"
   ]
  },
  {
   "cell_type": "code",
   "execution_count": 22,
   "metadata": {
    "collapsed": false
   },
   "outputs": [
    {
     "name": "stdout",
     "output_type": "stream",
     "text": [
      "(568238,)\n"
     ]
    }
   ],
   "source": [
    "OUTPUT_PATH = '../Data/result_normalized.csv' \n",
    "# TODO: fill in desired name of output file for submission\n",
    "y_pred = predict_labels(weights, tX_test)\n",
    "print(y_pred.shape)\n",
    "create_csv_submission(ids_test, y_pred, OUTPUT_PATH)"
   ]
  },
  {
   "cell_type": "markdown",
   "metadata": {},
   "source": [
    "## Do some Testing Accuracy so don't have to submit on kaggle"
   ]
  },
  {
   "cell_type": "code",
   "execution_count": null,
   "metadata": {
    "collapsed": true
   },
   "outputs": [],
   "source": []
  },
  {
   "cell_type": "code",
   "execution_count": null,
   "metadata": {
    "collapsed": true
   },
   "outputs": [],
   "source": []
  }
 ],
 "metadata": {
  "anaconda-cloud": {},
  "kernelspec": {
   "display_name": "Python 3",
   "language": "python",
   "name": "python3"
  },
  "language_info": {
   "codemirror_mode": {
    "name": "ipython",
    "version": 3
   },
   "file_extension": ".py",
   "mimetype": "text/x-python",
   "name": "python",
   "nbconvert_exporter": "python",
   "pygments_lexer": "ipython3",
   "version": "3.5.2"
  }
 },
 "nbformat": 4,
 "nbformat_minor": 0
}
