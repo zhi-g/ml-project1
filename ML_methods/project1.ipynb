{
 "cells": [
  {
   "cell_type": "code",
   "execution_count": 2,
   "metadata": {
    "collapsed": false
   },
   "outputs": [],
   "source": [
    "# Useful starting lines\n",
    "%matplotlib inline\n",
    "import numpy as np\n",
    "import matplotlib.pyplot as plt\n",
    "%load_ext autoreload\n",
    "%autoreload 2\n",
    "\n",
    "from ml_functions import *\n",
    "from helpers import *\n"
   ]
  },
  {
   "cell_type": "markdown",
   "metadata": {},
   "source": [
    "## Load the training data into feature matrix, class labels, and event ids:"
   ]
  },
  {
   "cell_type": "code",
   "execution_count": 3,
   "metadata": {
    "collapsed": false
   },
   "outputs": [],
   "source": [
    "from proj1_helpers import *\n",
    "DATA_TRAIN_PATH = '../Data/train.csv' # TODO: download train data and supply path here \n",
    "y, tX, ids = load_csv_data(DATA_TRAIN_PATH)"
   ]
  },
  {
   "cell_type": "markdown",
   "metadata": {},
   "source": [
    "## Training:"
   ]
  },
  {
   "cell_type": "code",
   "execution_count": 4,
   "metadata": {
    "collapsed": false
   },
   "outputs": [],
   "source": [
    "#First we build a polynomial model to represent the features\n",
    "#phi = build_poly(tX, 2)\n",
    "\n",
    "gamma = 0.1\n",
    "max_iters = 30\n",
    "w_initial = np.full((tX.shape[1]), 0.0)\n",
    "'''w_initial, gamma,  max_iters'''\n",
    "w = least_squares(y, tX)\n",
    "\n",
    "#std_tX = standardize(tX)[0]\n",
    "#w = logistic_regression(y,std_tX,gamma,max_iters)\n",
    "#w = reg_logistic_regression(y, std_tX, 0.5, gamma, max_iters)"
   ]
  },
  {
   "cell_type": "code",
   "execution_count": 5,
   "metadata": {
    "collapsed": false
   },
   "outputs": [],
   "source": [
    "w\n",
    "weights = w\n",
    "\n",
    "y[y == -1] = 0"
   ]
  },
  {
   "cell_type": "markdown",
   "metadata": {},
   "source": [
    "### Regularized Logistic Regression"
   ]
  },
  {
   "cell_type": "code",
   "execution_count": null,
   "metadata": {
    "collapsed": false
   },
   "outputs": [],
   "source": [
    "from helpers import *\n",
    "\n",
    "max_iters = 10\n",
    "gammas = [i for i in range(1, 10)]\n",
    "lambdas = np.logspace(-4, 0, 30)\n",
    "y[y == -1] = 0\n",
    "\n",
    "test_errs = []\n",
    "train_errs = []\n",
    "std_tX = standardize(tX)[0]\n",
    "\n",
    "for l in lambdas:\n",
    "    test_errs = []\n",
    "    train_errs = []\n",
    "    for gamma in gammas:\n",
    "        def wrap_reg_logistic_regression(trainy, trainx):\n",
    "            return reg_logistic_regression(trainy, trainx, l, gamma, max_iters)\n",
    "        tr_rmse, te_rmse = k_fold(y, std_tX, 10, wrap_reg_logistic_regression, compute_cost_ll)    \n",
    "        train_errs.append(tr_rmse)\n",
    "        test_errs.append(te_rmse)\n",
    "    plt.plot(gammas, train_errs)\n",
    "    plt.plot(gammas, test_errs)\n",
    "    \n",
    "y[y == 0] = -1"
   ]
  },
  {
   "cell_type": "code",
   "execution_count": 69,
   "metadata": {
    "collapsed": false
   },
   "outputs": [
    {
     "data": {
      "text/plain": [
       "[<matplotlib.lines.Line2D at 0x7fa91068dd30>]"
      ]
     },
     "execution_count": 69,
     "metadata": {},
     "output_type": "execute_result"
    },
    {
     "data": {
      "image/png": "[encoded data removed]",
      "text/plain": [
       "<matplotlib.figure.Figure at 0x7fa91068d668>"
      ]
     },
     "metadata": {},
     "output_type": "display_data"
    }
   ],
   "source": []
  },
  {
   "cell_type": "markdown",
   "metadata": {},
   "source": [
    "## Generate predictions and save ouput in csv format for submission:"
   ]
  },
  {
   "cell_type": "code",
   "execution_count": 17,
   "metadata": {
    "collapsed": false
   },
   "outputs": [],
   "source": [
    "DATA_TEST_PATH = '../Data/test.csv' # TODO: download train data and supply path here \n",
    "_, tX_test, ids_test = load_csv_data(DATA_TEST_PATH)"
   ]
  },
  {
   "cell_type": "code",
   "execution_count": 21,
   "metadata": {
    "collapsed": false
   },
   "outputs": [
    {
     "name": "stdout",
     "output_type": "stream",
     "text": [
      "(568238,)\n"
     ]
    }
   ],
   "source": [
    "OUTPUT_PATH = '../Data/result.csv' \n",
    "# TODO: fill in desired name of output file for submission\n",
    "y_pred = predict_labels(weights, tX_test)\n",
    "print(y_pred.shape)\n",
    "create_csv_submission(ids_test, y_pred, OUTPUT_PATH)"
   ]
  },
  {
   "cell_type": "code",
   "execution_count": null,
   "metadata": {
    "collapsed": true
   },
   "outputs": [],
   "source": []
  }
 ],
 "metadata": {
  "anaconda-cloud": {},
  "kernelspec": {
   "display_name": "Python 3",
   "language": "python",
   "name": "python3"
  },
  "language_info": {
   "codemirror_mode": {
    "name": "ipython",
    "version": 3
   },
   "file_extension": ".py",
   "mimetype": "text/x-python",
   "name": "python",
   "nbconvert_exporter": "python",
   "pygments_lexer": "ipython3",
   "version": "3.5.0"
  }
 },
 "nbformat": 4,
 "nbformat_minor": 0
}
