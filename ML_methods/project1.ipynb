{
 "cells": [
  {
   "cell_type": "code",
   "execution_count": 183,
   "metadata": {
    "collapsed": false
   },
   "outputs": [
    {
     "name": "stdout",
     "output_type": "stream",
     "text": [
      "The autoreload extension is already loaded. To reload it, use:\n",
      "  %reload_ext autoreload\n"
     ]
    }
   ],
   "source": [
    "# Useful starting lines\n",
    "%matplotlib inline\n",
    "import numpy as np\n",
    "import matplotlib.pyplot as plt\n",
    "%load_ext autoreload\n",
    "%autoreload 2\n",
    "from proj1_helpers import *"
   ]
  },
  {
   "cell_type": "markdown",
   "metadata": {},
   "source": [
    "## Load the training data into feature matrix, class labels, and event ids:"
   ]
  },
  {
   "cell_type": "code",
   "execution_count": 28,
   "metadata": {
    "collapsed": false,
    "scrolled": true
   },
   "outputs": [],
   "source": [
    "from proj1_helpers import *\n",
    "DATA_TRAIN_PATH = '../Data/train.csv' # TODO: download train data and supply path here \n",
    "y, tX, ids = load_csv_data(DATA_TRAIN_PATH)"
   ]
  },
  {
   "cell_type": "code",
   "execution_count": 101,
   "metadata": {
    "collapsed": false
   },
   "outputs": [
    {
     "data": {
      "text/plain": [
       "array([[ 1.,  1.,  1.,  1.,  2.,  4.,  1.,  3.,  9.]])"
      ]
     },
     "execution_count": 101,
     "metadata": {},
     "output_type": "execute_result"
    }
   ],
   "source": [
    "def build_poly2(x, degree):\n",
    "    \"\"\"polynomial basis functions for input data x, for j=0 up to j=degree.\"\"\"\n",
    "    size = (x.shape[0])*(degree+1)\n",
    "    phi = np.full((1, size), 0.0)\n",
    "    \n",
    "    for i in range(0, x.shape[0]):\n",
    "        for j in range(0, degree+1):\n",
    "            index = j + i*(degree+1)\n",
    "            np.put(phi, index, np.power(x[i], j))\n",
    "\n",
    "    return phi\n",
    "\n",
    "build_poly2(np.array([1,2,3]), 2)"
   ]
  },
  {
   "cell_type": "code",
   "execution_count": 124,
   "metadata": {
    "collapsed": false
   },
   "outputs": [],
   "source": [
    "# Make tX useful with my build_poly func\n",
    "\n",
    "degree = 2\n",
    "#polyX = np.full((tX.shape[0], tX.shape[1] * (degree+1)), 0.0)\n",
    "polyX = list()\n",
    "for row in tX:\n",
    "    polyX.append(build_poly2(row, degree))\n",
    "\n",
    "PolyXNP = np.array(polyX)\n",
    "PolyXNP2 = PolyXNP.reshape((PolyXNP.shape[0], PolyXNP.shape[2]))\n"
   ]
  },
  {
   "cell_type": "code",
   "execution_count": 163,
   "metadata": {
    "collapsed": false
   },
   "outputs": [
    {
     "data": {
      "text/plain": [
       "90"
      ]
     },
     "execution_count": 163,
     "metadata": {},
     "output_type": "execute_result"
    }
   ],
   "source": [
    "\n",
    "PolyXNP.shape[2]"
   ]
  },
  {
   "cell_type": "code",
   "execution_count": 164,
   "metadata": {
    "collapsed": false
   },
   "outputs": [
    {
     "data": {
      "text/plain": [
       "(250000, 90)"
      ]
     },
     "execution_count": 164,
     "metadata": {},
     "output_type": "execute_result"
    }
   ],
   "source": [
    "\n",
    "PolyXNP2.shape"
   ]
  },
  {
   "cell_type": "markdown",
   "metadata": {},
   "source": [
    "## Training:"
   ]
  },
  {
   "cell_type": "code",
   "execution_count": 165,
   "metadata": {
    "collapsed": false
   },
   "outputs": [],
   "source": [
    "Fused = np.c_[y, PolyXNP2]"
   ]
  },
  {
   "cell_type": "code",
   "execution_count": 174,
   "metadata": {
    "collapsed": false
   },
   "outputs": [
    {
     "data": {
      "text/plain": [
       "array([ 0.,  1.,  2.,  3.])"
      ]
     },
     "execution_count": 174,
     "metadata": {},
     "output_type": "execute_result"
    }
   ],
   "source": [
    "model_id = (degree+1)*23 - 1\n",
    "np.unique(Fused[:, model_id])"
   ]
  },
  {
   "cell_type": "code",
   "execution_count": null,
   "metadata": {
    "collapsed": true
   },
   "outputs": [],
   "source": []
  },
  {
   "cell_type": "code",
   "execution_count": 175,
   "metadata": {
    "collapsed": false
   },
   "outputs": [
    {
     "data": {
      "text/plain": [
       "(array([ -8.39830534e-01,  -1.00600836e-03,  -9.92527245e-07,\n",
       "         -7.96365699e-15,  -1.42065873e-02,   8.22352758e-05,\n",
       "         -2.75330707e-15,  -1.76981933e-02,   1.98272206e-05,\n",
       "         -1.00546635e-14,  -3.87002745e-04,  -1.20437296e-04,\n",
       "         -1.00546635e-14,   3.68264236e-11,  -1.56291765e-08,\n",
       "         -1.00546635e-14,   3.57770831e-11,  -1.56291765e-08,\n",
       "         -7.55288027e-15,   3.57770831e-11,  -1.56291765e-08,\n",
       "         -7.55288027e-15,   8.46410973e-02,   1.17797714e-01,\n",
       "          1.49570126e-27,  -3.85946556e-04,   1.33834371e-04,\n",
       "          1.48278342e-27,   1.62167414e-02,   8.49304766e-05,\n",
       "          1.50721711e-27,  -1.18640226e-01,   3.16247769e-02,\n",
       "          1.56903841e-27,   2.64761069e-04,  -3.19222012e-02,\n",
       "          1.56113193e-27,   2.54798657e-11,  -1.56291765e-08,\n",
       "          1.57262843e-27,   1.56125604e-02,  -2.03024116e-04,\n",
       "          1.57704251e-27,   7.16681738e-04,  -1.87079199e-02,\n",
       "          1.56414342e-27,   2.29611565e-06,   4.34033719e-04,\n",
       "          1.48569364e-27,   6.23015667e-04,  -2.76387341e-04,\n",
       "          3.30415923e-27,   2.11023097e-03,  -2.85057084e-02,\n",
       "          3.20895514e-27,  -3.98688949e-04,   6.49211960e-04,\n",
       "          3.38491379e-27,  -2.51094298e-03,  -1.33235240e-05,\n",
       "          3.37947503e-27,  -2.76786436e-03,   1.06243565e-03,\n",
       "          3.36861938e-27,   2.76488773e-04,   1.29075418e-06,\n",
       "          1.00665518e-30,   0.00000000e+00,   0.00000000e+00,\n",
       "          1.00665518e-30,   2.54798657e-11,  -1.56291765e-08,\n",
       "          2.81521417e-31,   2.54798657e-11,  -1.56291765e-08,\n",
       "         -4.43612349e-31,   2.54798657e-11,  -1.56291765e-08,\n",
       "          2.22324233e-30,   2.54798657e-11,  -1.56291765e-08,\n",
       "         -1.18885353e-31,   2.54798657e-11,  -1.56291765e-08,\n",
       "         -4.49038503e-15,   3.25145710e-11,  -1.56291765e-08,\n",
       "         -4.49038503e-15,   0.00000000e+00,   0.00000000e+00]),\n",
       " array([ -1.63362783e+00,   1.19159529e-04,  -4.92867289e-09,\n",
       "         -2.17042286e-14,  -8.35593104e-03,   2.04235786e-05,\n",
       "         -1.95372601e-14,  -2.65176460e-03,  -1.98443753e-06,\n",
       "         -1.89813130e-14,  -2.63329513e-03,   8.91724018e-06,\n",
       "         -1.89813130e-14,  -1.41413868e-10,  -9.23911392e-09,\n",
       "         -1.89813130e-14,  -1.45844894e-10,  -9.23911392e-09,\n",
       "         -1.47730385e-14,  -1.45844894e-10,  -9.23911392e-09,\n",
       "         -1.47730385e-14,   4.50125708e-01,  -5.09615348e-02,\n",
       "         -1.93135853e-21,   1.84787871e-03,   6.64568076e-07,\n",
       "         -1.93135174e-21,   7.78647844e-03,   8.26278791e-06,\n",
       "         -1.93135665e-21,  -7.69046461e-02,   1.13880336e-02,\n",
       "         -1.93135533e-21,   1.00682090e-01,   4.80000780e-02,\n",
       "         -1.93135521e-21,  -1.46312431e-10,  -9.23911392e-09,\n",
       "         -1.93135521e-21,   9.38453361e-03,  -7.33618226e-05,\n",
       "         -1.93135496e-21,   3.22038836e-03,  -2.78652414e-02,\n",
       "         -1.93135458e-21,  -1.75902285e-03,  -1.25453615e-04,\n",
       "         -1.93135793e-21,   1.04989124e-04,  -4.99846016e-05,\n",
       "         -1.93136005e-21,  -3.43605849e-03,  -4.38720311e-02,\n",
       "         -1.93135786e-21,  -1.85957678e-04,   9.56192722e-04,\n",
       "         -1.93135736e-21,   2.90041206e-03,   7.86238161e-07,\n",
       "         -1.93136055e-21,   2.52337611e-03,  -6.15859382e-04,\n",
       "         -1.93135438e-21,   7.19365931e-04,  -2.32542456e-06,\n",
       "         -1.93135419e-21,  -1.93135419e-21,  -1.93135419e-21,\n",
       "         -1.93135419e-21,  -1.63075991e-03,  -1.06356518e-03,\n",
       "         -1.93136006e-21,  -9.12223834e-04,   4.21686409e-02,\n",
       "         -1.93136007e-21,  -6.03862203e-04,   3.72879493e-04,\n",
       "         -1.93136007e-21,  -1.46312431e-10,  -9.23911392e-09,\n",
       "         -1.93136007e-21,  -1.46312431e-10,  -9.23911392e-09,\n",
       "          4.63824862e-15,  -1.95348568e-10,  -9.23911392e-09,\n",
       "          4.63824951e-15,  -1.61989378e-03,   1.03731183e-03]),\n",
       " array([ -1.56932969e+00,  -5.85883349e-04,  -9.34566384e-07,\n",
       "          2.67129472e-14,  -5.18930371e-03,   4.81708701e-06,\n",
       "          2.58402527e-14,   3.10550654e-03,  -7.54472015e-06,\n",
       "          1.55383729e-14,   1.22333946e-03,   2.16420292e-06,\n",
       "          2.05433583e-14,  -1.09558812e-01,   1.99917018e-02,\n",
       "          1.90396746e-14,   6.73578218e-04,  -1.79689882e-07,\n",
       "          1.39351464e-14,   3.95593214e-03,  -1.59024347e-03,\n",
       "          1.04205566e-14,   6.08621090e-01,  -1.00716521e-01,\n",
       "          1.58402688e-15,  -3.69246522e-03,   3.18032322e-05,\n",
       "          5.78680644e-17,   4.90104635e-03,  -3.91585798e-07,\n",
       "          3.44038545e-16,  -1.17309150e-01,   8.45320058e-03,\n",
       "          6.07143832e-16,   1.01639032e-01,   6.92217542e-02,\n",
       "          8.58913346e-16,   1.66022658e-01,   2.01142786e-01,\n",
       "          6.77970411e-16,   4.57528724e-03,  -2.32726093e-05,\n",
       "          4.21403273e-16,  -2.00045675e-03,  -3.31943731e-02,\n",
       "          4.15695464e-16,   4.87470350e-04,  -6.39383843e-04,\n",
       "          6.02661336e-16,   2.22980450e-03,  -1.78221530e-05,\n",
       "          5.88222840e-16,  -6.23862552e-03,  -3.70427499e-02,\n",
       "          5.99349393e-16,   2.57713533e-03,   3.47682972e-04,\n",
       "          6.28790642e-16,   3.84791246e-03,  -5.87057267e-06,\n",
       "          6.25503502e-16,   1.99499377e-03,  -5.21196561e-04,\n",
       "          2.15576839e-16,  -1.46436191e-03,   3.80495554e-07,\n",
       "          2.74606107e-16,   1.34895496e-15,   2.16377599e-15,\n",
       "          6.83799513e-16,  -3.28060943e-03,  -8.36927650e-07,\n",
       "         -1.05721348e-16,   3.89136727e-03,   1.65380982e-02,\n",
       "         -1.90597502e-16,   4.69062273e-03,   1.36920549e-03,\n",
       "         -1.47635749e-16,   1.38092915e-03,  -7.99662114e-06,\n",
       "         -5.55239735e-17,   2.92721138e-03,   1.17090976e-02,\n",
       "          4.25366284e-16,  -1.64623870e-03,  -7.47542179e-04,\n",
       "          4.58819323e-16,  -1.90360861e-03,  -1.28940218e-06]),\n",
       " array([ -1.05841150e+00,  -4.52813913e-04,  -7.85490379e-07,\n",
       "         -2.67859167e-14,  -4.04860477e-03,   7.68917446e-06,\n",
       "         -3.06088703e-14,   2.28000510e-03,  -2.80973310e-06,\n",
       "         -2.10295989e-14,   1.92663250e-03,   2.59727440e-06,\n",
       "         -1.69410994e-14,  -1.87494440e-01,   2.76683387e-02,\n",
       "         -2.35924481e-14,   3.86007526e-04,  -7.94052149e-08,\n",
       "         -1.72145864e-14,  -2.70440999e-03,   1.37182537e-03,\n",
       "         -1.99297962e-14,   5.64202879e-01,  -1.08222044e-01,\n",
       "          2.03604362e-15,  -1.30470703e-03,   7.87417799e-06,\n",
       "          2.38788589e-15,   1.84791827e-03,  -3.03763272e-07,\n",
       "          9.53663650e-16,  -8.10446913e-02,   5.01514264e-03,\n",
       "          1.44197204e-15,   6.16590177e-02,   5.36299647e-02,\n",
       "          1.36842003e-15,   6.56171782e-02,   1.66901330e-01,\n",
       "          1.36773113e-15,   3.97473295e-03,  -1.75320910e-05,\n",
       "          1.49742377e-15,  -1.15686780e-02,  -3.14336557e-02,\n",
       "          1.40679455e-15,   4.61953073e-04,   1.61234584e-04,\n",
       "         -5.42283531e-16,   1.20727902e-03,  -1.05911208e-05,\n",
       "         -5.89047889e-16,  -1.29376418e-03,  -3.33472679e-02,\n",
       "         -6.03658181e-16,   6.88191645e-04,  -1.21659347e-03,\n",
       "         -6.92343647e-16,   2.34919647e-03,  -6.80727774e-06,\n",
       "         -6.17742203e-16,   3.98590212e-03,  -3.55934002e-03,\n",
       "         -6.45167509e-16,  -4.47520335e-04,   7.48502093e-09,\n",
       "         -4.39151594e-16,  -5.68588558e-14,  -1.65667775e-13,\n",
       "         -1.14707385e-15,  -5.04878086e-04,  -4.75285662e-07,\n",
       "         -1.84351240e-16,  -5.70657616e-04,   1.30118662e-02,\n",
       "         -1.31096794e-16,   8.95956701e-04,  -1.93607999e-03,\n",
       "         -1.75418025e-16,   1.15039387e-03,  -3.11516213e-06,\n",
       "          5.07384734e-17,   3.66442119e-03,   1.00128974e-02,\n",
       "         -1.01051409e-14,   2.34346034e-03,  -2.91006330e-03,\n",
       "         -1.00246626e-14,  -3.28066499e-03,   1.35301220e-06]))"
      ]
     },
     "execution_count": 175,
     "metadata": {},
     "output_type": "execute_result"
    }
   ],
   "source": [
    "from ml_functions import *\n",
    "\n",
    "#First we build a polynomial model to represent the features\n",
    "#phi = build_poly(tX, 1)\n",
    "\n",
    "Fused_0 = Fused[Fused[:,model_id] == 0.0]\n",
    "Fused_1 = Fused[Fused[:,model_id] == 1.0]\n",
    "Fused_2 = Fused[Fused[:,model_id] == 2.0]\n",
    "Fused_3 = Fused[Fused[:,model_id] == 3.0]\n",
    "\n",
    "gamma = 0.1\n",
    "max_iters = 500\n",
    "w_initial = np.full((tX.shape[1]), 0.0)\n",
    "'''w_initial, gamma,  max_iters'''\n",
    "\n",
    "w1 = ridge_regression(Fused_0[:,0], Fused_0[:,1:Fused_0.shape[1]], 0.01)\n",
    "w2 = ridge_regression(Fused_1[:,0], Fused_1[:,1:Fused_1.shape[1]], 0.01)\n",
    "w3 = ridge_regression(Fused_2[:,0], Fused_2[:,1:Fused_2.shape[1]], 0.01)\n",
    "w4 = ridge_regression(Fused_3[:,0], Fused_3[:,1:Fused_3.shape[1]], 0.01)\n",
    "\n",
    "#weights = ridge_regression(y, tX, 0.01)\n",
    "\n",
    "weights = (w1, w2, w3, w4)\n",
    "weights\n",
    "#w = logistic_regression(y,tX,gamma,max_iters)"
   ]
  },
  {
   "cell_type": "markdown",
   "metadata": {},
   "source": [
    "## Generate predictions and save ouput in csv format for submission:"
   ]
  },
  {
   "cell_type": "code",
   "execution_count": 176,
   "metadata": {
    "collapsed": false
   },
   "outputs": [],
   "source": [
    "DATA_TEST_PATH = '../Data/test.csv' # TODO: download train data and supply path here \n",
    "_, tX_test, ids_test = load_csv_data(DATA_TEST_PATH)"
   ]
  },
  {
   "cell_type": "code",
   "execution_count": null,
   "metadata": {
    "collapsed": false
   },
   "outputs": [],
   "source": []
  },
  {
   "cell_type": "code",
   "execution_count": 184,
   "metadata": {
    "collapsed": false
   },
   "outputs": [
    {
     "name": "stdout",
     "output_type": "stream",
     "text": [
      "(568238,)\n"
     ]
    }
   ],
   "source": [
    "OUTPUT_PATH = '../Data/result3.csv' \n",
    "# TODO: fill in desired name of output file for submission\n",
    "y_pred = predict_labels3(weights, tX_test, degree)\n",
    "print(y_pred.shape)\n",
    "create_csv_submission(ids_test, y_pred, OUTPUT_PATH)"
   ]
  },
  {
   "cell_type": "code",
   "execution_count": null,
   "metadata": {
    "collapsed": true
   },
   "outputs": [],
   "source": []
  }
 ],
 "metadata": {
  "anaconda-cloud": {},
  "kernelspec": {
   "display_name": "Python [Root]",
   "language": "python",
   "name": "Python [Root]"
  },
  "language_info": {
   "codemirror_mode": {
    "name": "ipython",
    "version": 3
   },
   "file_extension": ".py",
   "mimetype": "text/x-python",
   "name": "python",
   "nbconvert_exporter": "python",
   "pygments_lexer": "ipython3",
   "version": "3.5.2"
  }
 },
 "nbformat": 4,
 "nbformat_minor": 0
}
