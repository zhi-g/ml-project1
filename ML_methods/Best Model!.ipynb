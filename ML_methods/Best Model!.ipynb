{
 "cells": [
  {
   "cell_type": "code",
   "execution_count": 14,
   "metadata": {
    "collapsed": false,
    "scrolled": true
   },
   "outputs": [
    {
     "name": "stdout",
     "output_type": "stream",
     "text": [
      "The autoreload extension is already loaded. To reload it, use:\n",
      "  %reload_ext autoreload\n"
     ]
    }
   ],
   "source": [
    "# Useful starting lines\n",
    "%matplotlib inline\n",
    "import numpy as np\n",
    "import matplotlib.pyplot as plt\n",
    "%load_ext autoreload\n",
    "%autoreload 2\n",
    "from proj1_helpers import *\n",
    "from visualizations import bias_variance_demo, cross_validation_demo"
   ]
  },
  {
   "cell_type": "markdown",
   "metadata": {},
   "source": [
    "## Load the training data into feature matrix, class labels, and event ids:"
   ]
  },
  {
   "cell_type": "code",
   "execution_count": 15,
   "metadata": {
    "collapsed": true
   },
   "outputs": [],
   "source": [
    "from proj1_helpers import *\n",
    "DATA_TRAIN_PATH = '../Data/train.csv' # TODO: download train data and supply path here \n",
    "y, tX, ids = load_csv_data(DATA_TRAIN_PATH)"
   ]
  },
  {
   "cell_type": "code",
   "execution_count": null,
   "metadata": {
    "collapsed": false
   },
   "outputs": [],
   "source": [
    "tX.shape"
   ]
  },
  {
   "cell_type": "code",
   "execution_count": null,
   "metadata": {
    "collapsed": false,
    "scrolled": true
   },
   "outputs": [],
   "source": [
    "from ml_functions import split_data\n",
    "\n",
    "# first column is y, second onwards is tX\n",
    "split_data(tX, y, 0.05, seed=1)[1].shape"
   ]
  },
  {
   "cell_type": "markdown",
   "metadata": {},
   "source": [
    "### removing -999s"
   ]
  },
  {
   "cell_type": "code",
   "execution_count": 16,
   "metadata": {
    "collapsed": true
   },
   "outputs": [],
   "source": [
    "for col in tX.T:\n",
    "    med = np.median(col[col != -999])\n",
    "    col[col == -999] = med"
   ]
  },
  {
   "cell_type": "markdown",
   "metadata": {},
   "source": [
    "### removing 22nd Index"
   ]
  },
  {
   "cell_type": "code",
   "execution_count": 17,
   "metadata": {
    "collapsed": true
   },
   "outputs": [],
   "source": [
    "model_index = tX[:, 22]\n",
    "\n",
    "#remove model index column from tx\n",
    "tX = np.delete(tX, 22, 1)"
   ]
  },
  {
   "cell_type": "code",
   "execution_count": 20,
   "metadata": {
    "collapsed": false
   },
   "outputs": [
    {
     "data": {
      "text/plain": [
       "(250000,)"
      ]
     },
     "execution_count": 20,
     "metadata": {},
     "output_type": "execute_result"
    }
   ],
   "source": [
    "model_index.shape"
   ]
  },
  {
   "cell_type": "markdown",
   "metadata": {},
   "source": [
    "### Build 4 tX and y"
   ]
  },
  {
   "cell_type": "code",
   "execution_count": 21,
   "metadata": {
    "collapsed": false
   },
   "outputs": [],
   "source": [
    "Fused = np.c_[y, tX] # combining y and tX such that it is not lost\n",
    "\n",
    "Fused_0 = Fused[model_index == 0.0] # only a subset of the model... \n",
    "Fused_1 = Fused[model_index == 1.0]\n",
    "Fused_2 = Fused[model_index == 2.0]\n",
    "Fused_3 = Fused[model_index == 3.0]"
   ]
  },
  {
   "cell_type": "code",
   "execution_count": 22,
   "metadata": {
    "collapsed": false,
    "scrolled": true
   },
   "outputs": [
    {
     "data": {
      "text/plain": [
       "(99913, 30)"
      ]
     },
     "execution_count": 22,
     "metadata": {},
     "output_type": "execute_result"
    }
   ],
   "source": [
    "Fused_0.shape"
   ]
  },
  {
   "cell_type": "markdown",
   "metadata": {},
   "source": [
    "## Build list of polynomials"
   ]
  },
  {
   "cell_type": "code",
   "execution_count": 87,
   "metadata": {
    "collapsed": true
   },
   "outputs": [],
   "source": [
    "# building a polynomial matrix of degree 10\n",
    "tX_10 = build_poly3(tX,10)"
   ]
  },
  {
   "cell_type": "code",
   "execution_count": null,
   "metadata": {
    "collapsed": true
   },
   "outputs": [],
   "source": [
    "import pickle\n",
    "pickle.dump( tX_10, open( \"tX_10.p\", \"wb\" ) )"
   ]
  },
  {
   "cell_type": "code",
   "execution_count": null,
   "metadata": {
    "collapsed": true
   },
   "outputs": [],
   "source": [
    "tX_10 = pickle.load( open( \"tX_10.p\", \"rb\" ) )"
   ]
  },
  {
   "cell_type": "code",
   "execution_count": 89,
   "metadata": {
    "collapsed": false
   },
   "outputs": [
    {
     "data": {
      "text/plain": [
       "(250000, 290)"
      ]
     },
     "execution_count": 89,
     "metadata": {},
     "output_type": "execute_result"
    }
   ],
   "source": [
    "tX_10.shape"
   ]
  },
  {
   "cell_type": "code",
   "execution_count": 119,
   "metadata": {
    "collapsed": true
   },
   "outputs": [],
   "source": [
    "Fused = np.c_[y, tX_10]"
   ]
  },
  {
   "cell_type": "code",
   "execution_count": null,
   "metadata": {
    "collapsed": true
   },
   "outputs": [],
   "source": []
  },
  {
   "cell_type": "code",
   "execution_count": null,
   "metadata": {
    "collapsed": true
   },
   "outputs": [],
   "source": [
    "tX_list = list()\n",
    "# takes a long time to run, run only once!!!\n",
    "for d in range(1,11):\n",
    "    tX_list.append(build_poly3(tX,d))"
   ]
  },
  {
   "cell_type": "code",
   "execution_count": null,
   "metadata": {
    "collapsed": true
   },
   "outputs": [],
   "source": []
  },
  {
   "cell_type": "code",
   "execution_count": 113,
   "metadata": {
    "collapsed": true
   },
   "outputs": [],
   "source": [
    "def build_poly_d(tX_all_degree, degree):\n",
    "    index = list()\n",
    "    for i in range(0,29): # tX.shape[1] is 29, \n",
    "        for d in range(1,degree+1): # up to degree 10 for example\n",
    "            index.append(i*10+d) # [1,11,...,281]\n",
    "    return tX_all_degree[:,index]"
   ]
  },
  {
   "cell_type": "code",
   "execution_count": 120,
   "metadata": {
    "collapsed": false
   },
   "outputs": [
    {
     "name": "stdout",
     "output_type": "stream",
     "text": [
      "1\n",
      "2\n",
      "3\n",
      "4\n",
      "5\n",
      "6\n",
      "7\n",
      "8\n",
      "9\n"
     ]
    }
   ],
   "source": [
    "max_degree = 10\n",
    "tX_list = list()\n",
    "# takes a long time to run, run only once!!!\n",
    "for degree in range(1,max_degree):\n",
    "    tX_list.append(build_poly_d(Fused, degree))\n",
    "    print(degree)"
   ]
  },
  {
   "cell_type": "code",
   "execution_count": 122,
   "metadata": {
    "collapsed": false
   },
   "outputs": [
    {
     "data": {
      "text/plain": [
       "(250000, 261)"
      ]
     },
     "execution_count": 122,
     "metadata": {},
     "output_type": "execute_result"
    }
   ],
   "source": [
    "tX_list[8].shape"
   ]
  },
  {
   "cell_type": "code",
   "execution_count": 123,
   "metadata": {
    "collapsed": false
   },
   "outputs": [
    {
     "data": {
      "text/plain": [
       "array([[  1.38470000e+02,   1.91739409e+04,   2.65501560e+06, ...,\n",
       "          2.42599932e+14,   2.75343645e+16,   3.12506777e+18],\n",
       "       [  1.60937000e+02,   2.59007180e+04,   4.16838385e+06, ...,\n",
       "          4.51028728e+11,   2.08492540e+13,   9.63777614e+14],\n",
       "       [  1.12406000e+02,   1.26351088e+04,   1.42026204e+06, ...,\n",
       "          3.32247427e+11,   1.47022809e+13,   6.50590632e+14],\n",
       "       ..., \n",
       "       [  1.05457000e+02,   1.11211788e+04,   1.17280616e+06, ...,\n",
       "          2.30232123e+11,   9.66790731e+12,   4.05974764e+14],\n",
       "       [  9.49510000e+01,   9.01569240e+03,   8.56049009e+05, ...,\n",
       "          0.00000000e+00,   0.00000000e+00,   0.00000000e+00],\n",
       "       [  1.12406000e+02,   1.26351088e+04,   1.42026204e+06, ...,\n",
       "          0.00000000e+00,   0.00000000e+00,   0.00000000e+00]])"
      ]
     },
     "execution_count": 123,
     "metadata": {},
     "output_type": "execute_result"
    }
   ],
   "source": [
    "tX_list[8]"
   ]
  },
  {
   "cell_type": "code",
   "execution_count": 104,
   "metadata": {
    "collapsed": false
   },
   "outputs": [
    {
     "name": "stdout",
     "output_type": "stream",
     "text": [
      "[1, 2, 11, 12, 21, 22, 31, 32, 41, 42, 51, 52, 61, 62, 71, 72, 81, 82, 91, 92, 101, 102, 111, 112, 121, 122, 131, 132, 141, 142, 151, 152, 161, 162, 171, 172, 181, 182, 191, 192, 201, 202, 211, 212, 221, 222, 231, 232, 241, 242, 251, 252, 261, 262, 271, 272, 281, 282]\n"
     ]
    },
    {
     "data": {
      "text/plain": [
       "(250000, 58)"
      ]
     },
     "execution_count": 104,
     "metadata": {},
     "output_type": "execute_result"
    }
   ],
   "source": [
    "build_poly_d(tX_10,2).shape"
   ]
  },
  {
   "cell_type": "code",
   "execution_count": null,
   "metadata": {
    "collapsed": true
   },
   "outputs": [],
   "source": [
    "Fused = np.c_[y, tX_10]"
   ]
  },
  {
   "cell_type": "code",
   "execution_count": null,
   "metadata": {
    "collapsed": true
   },
   "outputs": [],
   "source": []
  },
  {
   "cell_type": "markdown",
   "metadata": {},
   "source": [
    "### Building Polynomail Matrix"
   ]
  },
  {
   "cell_type": "code",
   "execution_count": 5,
   "metadata": {
    "collapsed": true
   },
   "outputs": [],
   "source": [
    "# x is one column\n",
    "def build_poly_one_column(x, degree):\n",
    "    \"\"\"polynomial basis functions for input data x, for j=0 up to j=degree.\"\"\"\n",
    "    size = (x.shape[0])*(degree)\n",
    "    phi = list()\n",
    "    \n",
    "    for i in range(0, x.shape[0]):\n",
    "        for j in range(1, degree+1):\n",
    "            index = j + i*(degree+1)\n",
    "            phi.append(np.power(x[i], j))\n",
    "            \n",
    "    return np.array(phi).reshape((1, size))"
   ]
  },
  {
   "cell_type": "code",
   "execution_count": 6,
   "metadata": {
    "collapsed": true
   },
   "outputs": [],
   "source": [
    "#polyX = np.full((tX.shape[0], tX.shape[1] * (degree+1)), 0.0)\n",
    "# tX is a multidimensional array\n",
    "def build_poly3(tX, degree):\n",
    "    polyX = list()\n",
    "    for row in tX:\n",
    "        polyX.append(build_poly_one_column(row, degree))\n",
    "\n",
    "    PolyXNP = np.array(polyX)\n",
    "    PolyXNP2 = PolyXNP.reshape((PolyXNP.shape[0], PolyXNP.shape[2]))\n",
    "\n",
    "    return PolyXNP2\n",
    "    #Standardize\n",
    "    PolyXNP2 = standardize(PolyXNP2)\n",
    "    "
   ]
  },
  {
   "cell_type": "code",
   "execution_count": 8,
   "metadata": {
    "collapsed": false,
    "scrolled": true
   },
   "outputs": [],
   "source": [
    "# building polynomial\n",
    "degree = 2\n",
    "# tX = build_poly3(tX,2)"
   ]
  },
  {
   "cell_type": "code",
   "execution_count": 9,
   "metadata": {
    "collapsed": true
   },
   "outputs": [],
   "source": [
    "# standardize such that the mean is 0 and standard deviation is 1.\n",
    "# X is a multi-dimensional array\n",
    "def standardize(X):\n",
    "    X = (X - np.mean(X)) / np.std(X)\n",
    "    X = np.hstack((np.ones((X.shape[0],1)), X)) # adding column of ones for the first column\n",
    "    return X"
   ]
  },
  {
   "cell_type": "markdown",
   "metadata": {},
   "source": [
    "## Cross Validation"
   ]
  },
  {
   "cell_type": "code",
   "execution_count": null,
   "metadata": {
    "collapsed": true
   },
   "outputs": [],
   "source": [
    "x_test = x0[k_indices[10],:]"
   ]
  },
  {
   "cell_type": "code",
   "execution_count": 77,
   "metadata": {
    "collapsed": true
   },
   "outputs": [],
   "source": [
    "def cross_validation_rr(y, x, k_indices, k, lambda_, degree):\n",
    "    \"\"\"return the loss of ridge regression.\"\"\"\n",
    "    \n",
    "    # empty array for computing the mean for each hold\n",
    "    loss_tr_arr = [] \n",
    "    loss_te_arr = [] \n",
    "    \n",
    "    for k in range(0,k):\n",
    "        # get k'th subgroup in test, others in train\n",
    "        x_test = x[k_indices[k],:]\n",
    "        y_test = y[k_indices[k]]\n",
    "        x_train = np.delete(x, k_indices[k], axis=0)\n",
    "        y_train = np.delete(y, k_indices[k])\n",
    "\n",
    "        print(x_train.shape,x_test.shape)\n",
    "        \n",
    "        \n",
    "\n",
    "        # ridge regression\n",
    "        loss_tr, weights = ridge_regression(y_train, tx_train, lambda_)\n",
    "        loss_te = compute_loss(y_test,tx_test,weights)\n",
    "        loss_tr_arr.append(loss_tr)\n",
    "        loss_te_arr.append(loss_te)\n",
    "        \n",
    "    # calculate the loss for train and test data\n",
    "    loss_tr = np.mean(loss_tr_arr)\n",
    "    loss_te = np.mean(loss_te_arr)\n",
    "    \n",
    "    return loss_tr, loss_te"
   ]
  },
  {
   "cell_type": "code",
   "execution_count": 85,
   "metadata": {
    "collapsed": true
   },
   "outputs": [],
   "source": [
    "from plots import cross_validation_visualization\n",
    "def cross_validation_demo(x, y, k_fold, degree):\n",
    "    \"\"\"Generating the cv visualization for one example.\"\"\"\n",
    "    seed = 1\n",
    "    lambdas = np.logspace(-4, 0, 1)\n",
    "    # split data in k fold\n",
    "    k_indices = build_k_indices(y, k_fold, seed)\n",
    "    # define lists to store the loss of training data and test data\n",
    "    rmse_tr = []\n",
    "    rmse_te = []\n",
    "    \n",
    "\n",
    "    # cross validation: TODO\n",
    "    for lambda_ in lambdas:\n",
    "        loss_tr, loss_te = cross_validation_rr(y, x, k_indices, k_fold, lambda_, degree)\n",
    "        rmse_tr.append(loss_tr)\n",
    "        rmse_te.append(loss_te)\n",
    "    \n",
    "    cross_validation_visualization(lambdas, rmse_tr, rmse_te)"
   ]
  },
  {
   "cell_type": "code",
   "execution_count": 79,
   "metadata": {
    "collapsed": false,
    "scrolled": true
   },
   "outputs": [
    {
     "data": {
      "text/plain": [
       "(24978, 29)"
      ]
     },
     "execution_count": 79,
     "metadata": {},
     "output_type": "execute_result"
    }
   ],
   "source": [
    "tX[ki[3]].shape"
   ]
  },
  {
   "cell_type": "code",
   "execution_count": 86,
   "metadata": {
    "collapsed": false,
    "scrolled": true
   },
   "outputs": [
    {
     "name": "stdout",
     "output_type": "stream",
     "text": [
      "(74935, 29) (24978, 29)\n",
      "273.667471292\n",
      "53.9548204017\n",
      "(74935, 29) (24978, 29)\n",
      "273.665784016\n",
      "83.4353411521\n",
      "(74935, 29) (24978, 29)\n",
      "273.665775918\n",
      "50.0616024828\n",
      "(74935, 29) (24978, 29)\n",
      "89.8163713125\n",
      "158.027455211\n"
     ]
    },
    {
     "data": {
      "image/png": "[encoded data removed]",
      "text/plain": [
       "<matplotlib.figure.Figure at 0x10cbfe748>"
      ]
     },
     "metadata": {},
     "output_type": "display_data"
    }
   ],
   "source": [
    "cross_validation_demo(x0,y0,4,2)"
   ]
  },
  {
   "cell_type": "markdown",
   "metadata": {},
   "source": [
    "## Build a List of Polynomials"
   ]
  },
  {
   "cell_type": "code",
   "execution_count": null,
   "metadata": {
    "collapsed": true
   },
   "outputs": [],
   "source": []
  },
  {
   "cell_type": "code",
   "execution_count": 63,
   "metadata": {
    "collapsed": false,
    "scrolled": true
   },
   "outputs": [
    {
     "data": {
      "text/plain": [
       "(24978, 29)"
      ]
     },
     "execution_count": 63,
     "metadata": {},
     "output_type": "execute_result"
    }
   ],
   "source": [
    "ki = build_k_indices(y0, 4, 5)\n",
    "tX[ki[3],:].shape"
   ]
  },
  {
   "cell_type": "code",
   "execution_count": 64,
   "metadata": {
    "collapsed": true
   },
   "outputs": [],
   "source": [
    "tX_copy = tX.copy()"
   ]
  },
  {
   "cell_type": "code",
   "execution_count": 65,
   "metadata": {
    "collapsed": false
   },
   "outputs": [
    {
     "data": {
      "text/plain": [
       "(250000, 29)"
      ]
     },
     "execution_count": 65,
     "metadata": {},
     "output_type": "execute_result"
    }
   ],
   "source": [
    "tX.shape"
   ]
  },
  {
   "cell_type": "code",
   "execution_count": 66,
   "metadata": {
    "collapsed": false
   },
   "outputs": [
    {
     "data": {
      "text/plain": [
       "(225022, 29)"
      ]
     },
     "execution_count": 66,
     "metadata": {},
     "output_type": "execute_result"
    }
   ],
   "source": [
    "np.delete(tX_copy, ki[3], axis=0).shape"
   ]
  },
  {
   "cell_type": "code",
   "execution_count": 35,
   "metadata": {
    "collapsed": true
   },
   "outputs": [],
   "source": [
    "lambdas = np.logspace(-4, 0, 30)"
   ]
  },
  {
   "cell_type": "code",
   "execution_count": 36,
   "metadata": {
    "collapsed": false,
    "scrolled": true
   },
   "outputs": [
    {
     "data": {
      "text/plain": [
       "(30,)"
      ]
     },
     "execution_count": 36,
     "metadata": {},
     "output_type": "execute_result"
    }
   ],
   "source": [
    "lambdas.shape"
   ]
  },
  {
   "cell_type": "code",
   "execution_count": 81,
   "metadata": {
    "collapsed": false
   },
   "outputs": [
    {
     "data": {
      "text/plain": [
       "(99913,)"
      ]
     },
     "execution_count": 81,
     "metadata": {},
     "output_type": "execute_result"
    }
   ],
   "source": [
    "y0 = Fused_0[:,0]\n",
    "x0 = Fused_0[:,1:Fused_0.shape[1]]\n",
    "y0.shape"
   ]
  },
  {
   "cell_type": "code",
   "execution_count": null,
   "metadata": {
    "collapsed": true
   },
   "outputs": [],
   "source": []
  }
 ],
 "metadata": {
  "kernelspec": {
   "display_name": "Python 3",
   "language": "python",
   "name": "python3"
  },
  "language_info": {
   "codemirror_mode": {
    "name": "ipython",
    "version": 3
   },
   "file_extension": ".py",
   "mimetype": "text/x-python",
   "name": "python",
   "nbconvert_exporter": "python",
   "pygments_lexer": "ipython3",
   "version": "3.5.1"
  }
 },
 "nbformat": 4,
 "nbformat_minor": 0
}
