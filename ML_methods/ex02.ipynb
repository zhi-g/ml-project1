{
 "cells": [
  {
   "cell_type": "code",
   "execution_count": 3,
   "metadata": {
    "collapsed": true
   },
   "outputs": [],
   "source": [
    "# Useful starting lines\n",
    "%matplotlib inline\n",
    "import numpy as np\n",
    "import matplotlib.pyplot as plt\n",
    "%load_ext autoreload\n",
    "%autoreload 2"
   ]
  },
  {
   "cell_type": "markdown",
   "metadata": {},
   "source": [
    "# Load the data"
   ]
  },
  {
   "cell_type": "code",
   "execution_count": 4,
   "metadata": {
    "collapsed": true
   },
   "outputs": [],
   "source": [
    "import datetime\n",
    "from helpers import *\n",
    "\n",
    "height, weight, gender = load_data(sub_sample=False, add_outlier=False)\n",
    "x, mean_x, std_x = standardize(height)\n",
    "y, tx = build_model_data(x, weight)"
   ]
  },
  {
   "cell_type": "code",
   "execution_count": 5,
   "metadata": {
    "collapsed": false
   },
   "outputs": [
    {
     "data": {
      "text/plain": [
       "((10000,), (10000, 2))"
      ]
     },
     "execution_count": 5,
     "metadata": {},
     "output_type": "execute_result"
    }
   ],
   "source": [
    "y.shape, tx.shape"
   ]
  },
  {
   "cell_type": "markdown",
   "metadata": {},
   "source": [
    "# Computing the Cost Function\n",
    "Fill in the the `compute_cost` function below:"
   ]
  },
  {
   "cell_type": "markdown",
   "metadata": {},
   "source": [
    "Mean Suqared Error:\n",
    "\n",
    "L(w) = MAE(w) = 1/N sum |yn - f(xn)|\n",
    "\n",
    "f = w0+w1xn1"
   ]
  },
  {
   "cell_type": "code",
   "execution_count": 21,
   "metadata": {
    "collapsed": true
   },
   "outputs": [],
   "source": [
    "def compute_loss(y, tx, w):\n",
    "    \"\"\"Calculate the loss.\n",
    "\n",
    "    You can calculate the loss using mse or mae.\n",
    "    \"\"\"\n",
    "    # ***************************************************\n",
    "    # INSERT YOUR CODE HERE\n",
    "    # TODO: compute loss by MSE / MAE\n",
    "    # ***************************************************\n",
    "    fxn = np.dot(tx,w) \n",
    "    e = y - fxn\n",
    "    #return np.mean(e**2)\n",
    "    return np.mean(abs(e))\n",
    "    # raise NotImplementedError"
   ]
  },
  {
   "cell_type": "code",
   "execution_count": 23,
   "metadata": {
    "collapsed": false
   },
   "outputs": [
    {
     "data": {
      "text/plain": [
       "72.293922002105177"
      ]
     },
     "execution_count": 23,
     "metadata": {},
     "output_type": "execute_result"
    }
   ],
   "source": [
    "compute_loss(y,tx,[1,2])"
   ]
  },
  {
   "cell_type": "markdown",
   "metadata": {},
   "source": [
    "# Grid Search"
   ]
  },
  {
   "cell_type": "markdown",
   "metadata": {},
   "source": [
    "Fill in the function `grid_search()` below:"
   ]
  },
  {
   "cell_type": "code",
   "execution_count": 25,
   "metadata": {
    "collapsed": false
   },
   "outputs": [
    {
     "data": {
      "text/plain": [
       "array([[ 0.,  0.,  0.,  0.,  0.],\n",
       "       [ 0.,  0.,  0.,  0.,  0.],\n",
       "       [ 0.,  0.,  0.,  0.,  0.]])"
      ]
     },
     "execution_count": 25,
     "metadata": {},
     "output_type": "execute_result"
    }
   ],
   "source": [
    "np.zeros((3,5))"
   ]
  },
  {
   "cell_type": "code",
   "execution_count": 32,
   "metadata": {
    "collapsed": false
   },
   "outputs": [],
   "source": [
    "def grid_search(y, tx, w0, w1):\n",
    "    \"\"\"Algorithm for grid search.\"\"\"\n",
    "    losses = np.zeros((len(w0), len(w1)))\n",
    "    # ***************************************************\n",
    "    # INSERT YOUR CODE HERE\n",
    "    # TODO: compute loss for each combination of w0 and w1.\n",
    "    # ***************************************************\n",
    "    for i in range(len(w0)):\n",
    "        for j in range(len(w1)):\n",
    "            losses[i][j] = compute_loss(y,tx,[w0[i],w1[j]])\n",
    "    # raise NotImplementedError\n",
    "    return losses"
   ]
  },
  {
   "cell_type": "markdown",
   "metadata": {},
   "source": [
    "Let us play with the grid search demo now!"
   ]
  },
  {
   "cell_type": "code",
   "execution_count": 33,
   "metadata": {
    "collapsed": false
   },
   "outputs": [
    {
     "name": "stdout",
     "output_type": "stream",
     "text": [
      "Grid Search: loss*=7.5885150157040915, w0*=66.66666666666669, w1*=16.666666666666686, execution time=0.040 seconds\n"
     ]
    },
    {
     "data": {
      "image/png": "[encoded data removed]",
      "text/plain": [
       "<matplotlib.figure.Figure at 0x106c467f0>"
      ]
     },
     "metadata": {},
     "output_type": "display_data"
    }
   ],
   "source": [
    "from grid_search import generate_w, get_best_parameters\n",
    "from plots import grid_visualization\n",
    "import datetime\n",
    "\n",
    "# Generate the grid of parameters to be swept\n",
    "grid_w0, grid_w1 = generate_w(num_intervals=10)\n",
    "\n",
    "# Start the grid search\n",
    "start_time = datetime.datetime.now()\n",
    "grid_losses = grid_search(y, tx, grid_w0, grid_w1)\n",
    "\n",
    "# Select the best combinaison\n",
    "loss_star, w0_star, w1_star = get_best_parameters(grid_w0, grid_w1, grid_losses)\n",
    "end_time = datetime.datetime.now()\n",
    "execution_time = (end_time - start_time).total_seconds()\n",
    "\n",
    "# Print the results\n",
    "print(\"Grid Search: loss*={l}, w0*={w0}, w1*={w1}, execution time={t:.3f} seconds\".format(\n",
    "      l=loss_star, w0=w0_star, w1=w1_star, t=execution_time))\n",
    "\n",
    "# Plot the results\n",
    "fig = grid_visualization(grid_losses, grid_w0, grid_w1, mean_x, std_x, height, weight)\n",
    "fig.set_size_inches(10.0,6.0)\n",
    "fig.savefig(\"grid_plot\")  # Optional saving"
   ]
  },
  {
   "cell_type": "markdown",
   "metadata": {},
   "source": [
    "# Gradient Descent"
   ]
  },
  {
   "cell_type": "markdown",
   "metadata": {},
   "source": [
    "Again, please fill in the functions `compute_gradient` below:"
   ]
  },
  {
   "cell_type": "code",
   "execution_count": 50,
   "metadata": {
    "collapsed": true
   },
   "outputs": [],
   "source": [
    "def compute_gradient(y, tx, w):\n",
    "    \"\"\"Compute the gradient.\"\"\"\n",
    "    # ***************************************************\n",
    "    # INSERT YOUR CODE HERE\n",
    "    # TODO: compute gradient and loss\n",
    "    # ***************************************************\n",
    "    fxn = np.dot(tx,w) \n",
    "    e = y - fxn # vector with N values\n",
    "    N = len(y)\n",
    "    gradient = -1/N * np.dot(np.transpose(tx),e)\n",
    "    return gradient"
   ]
  },
  {
   "cell_type": "code",
   "execution_count": 54,
   "metadata": {
    "collapsed": false
   },
   "outputs": [
    {
     "data": {
      "text/plain": [
       "array([-23.293922  ,  -3.47971243])"
      ]
     },
     "execution_count": 54,
     "metadata": {},
     "output_type": "execute_result"
    }
   ],
   "source": [
    "compute_gradient(y,tx,[50,10])"
   ]
  },
  {
   "cell_type": "markdown",
   "metadata": {},
   "source": [
    "Please fill in the functions `gradient_descent` below:"
   ]
  },
  {
   "cell_type": "code",
   "execution_count": 63,
   "metadata": {
    "collapsed": true
   },
   "outputs": [],
   "source": [
    "def gradient_descent(y, tx, initial_w, max_iters, gamma): \n",
    "    \"\"\"Gradient descent algorithm.\"\"\"\n",
    "    # Define parameters to store w and loss\n",
    "    ws = [initial_w] # w_initial = [0.0,0.0] 2vector\n",
    "    losses = []\n",
    "    w = initial_w\n",
    "    for n_iter in range(max_iters):\n",
    "        # ***************************************************\n",
    "        # INSERT YOUR CODE HERE\n",
    "        # TODO: compute gradient and loss\n",
    "        # ***************************************************\n",
    "        loss = compute_loss(y,tx,w)\n",
    "        gradient = compute_gradient(y,tx,w)\n",
    "        \n",
    "        # ***************************************************\n",
    "        # INSERT YOUR CODE HERE\n",
    "        # TODO: update w by gradient\n",
    "        # ***************************************************\n",
    "        w = w - gamma * gradient\n",
    "\n",
    "        # store w and loss\n",
    "        ws.append(np.copy(w))\n",
    "        losses.append(loss)\n",
    "        print(\"Gradient Descent({bi}/{ti}): loss={l}, w0={w0}, w1={w1}\".format(\n",
    "              bi=n_iter, ti=max_iters - 1, l=loss, w0=w[0], w1=w[1]))\n",
    "\n",
    "    return losses, ws"
   ]
  },
  {
   "cell_type": "markdown",
   "metadata": {},
   "source": [
    "Test your gradient descent function through gradient descent demo shown below:"
   ]
  },
  {
   "cell_type": "code",
   "execution_count": 81,
   "metadata": {
    "collapsed": false,
    "scrolled": true
   },
   "outputs": [
    {
     "name": "stdout",
     "output_type": "stream",
     "text": [
      "Gradient Descent(0/49): loss=1210.7945490694617, w0=-892.6706077997898, w1=901.3479712434981\n",
      "Gradient Descent(1/49): loss=1089.7320335556349, w0=-796.0741548196002, w1=812.561145362647\n",
      "Gradient Descent(2/49): loss=980.7757695931908, w0=-709.1373471374294, w1=732.6530020698813\n",
      "Gradient Descent(3/49): loss=882.7154432536324, w0=-630.8942202234758, w1=660.7356731063917\n",
      "Gradient Descent(4/49): loss=794.461467797371, w0=-560.4754060009178, w1=596.0100770392514\n",
      "Gradient Descent(5/49): loss=715.0330363875212, w0=-497.09847320061544, w1=537.757040578825\n",
      "Gradient Descent(6/49): loss=643.5474481186561, w0=-440.05923368034337, w1=485.3293077644414\n",
      "Gradient Descent(7/49): loss=579.2105864349213, w0=-388.7239181120987, w1=438.1443482314959\n",
      "Gradient Descent(8/49): loss=521.3077048385679, w0=-342.52213410067833, w1=395.6778846518452\n",
      "Gradient Descent(9/49): loss=469.1954759759038, w0=-300.94052849039974, w1=357.4580674301595\n",
      "Gradient Descent(10/49): loss=422.29475065419535, w0=-263.51708344114905, w1=323.06023193064226\n",
      "Gradient Descent(11/49): loss=380.08427728103163, w0=-229.83598289682348, w1=292.102179981077\n",
      "Gradient Descent(12/49): loss=342.09508433708214, w0=-199.5229924069306, w1=264.2399332264682\n",
      "Gradient Descent(13/49): loss=307.90513663530567, w0=-172.2413009660271, w1=239.16391114732028\n",
      "Gradient Descent(14/49): loss=277.13474851410825, w0=-147.68777866921388, w1=216.5954912760871\n",
      "Gradient Descent(15/49): loss=249.44153779995088, w0=-125.58960860208197, w1=196.28391339197728\n",
      "Gradient Descent(16/49): loss=224.5184061612495, w0=-105.70125554166322, w1=178.00349329627844\n",
      "Gradient Descent(17/49): loss=202.088045493019, w0=-87.80173778728633, w1=161.55111521014945\n",
      "Gradient Descent(18/49): loss=181.9015418139694, w0=-71.69217180834715, w1=146.74397493263334\n",
      "Gradient Descent(19/49): loss=163.7352479831256, w0=-57.193562427301906, w1=133.4175486828689\n",
      "Gradient Descent(20/49): loss=147.38604534797537, w0=-44.144813984361214, w1=121.42376505808089\n",
      "Gradient Descent(21/49): loss=132.6731376416533, w0=-32.40094038571449, w1=110.62935979577168\n",
      "Gradient Descent(22/49): loss=119.43243417005549, w0=-21.831454146932515, w1=100.9143950596934\n",
      "Gradient Descent(23/49): loss=107.51655006917768, w0=-12.318916532028728, w1=92.17092679722296\n",
      "Gradient Descent(24/49): loss=96.79326071297382, w0=-3.757632678615357, w1=84.30180536099955\n",
      "Gradient Descent(25/49): loss=87.14324723194025, w0=3.947522789456702, w1=77.21959606839849\n",
      "Gradient Descent(26/49): loss=78.45994903766098, w0=10.882162710721548, w1=70.84560770505753\n",
      "Gradient Descent(27/49): loss=70.64639436809445, w0=17.123338639859913, w1=65.10901817805068\n",
      "Gradient Descent(28/49): loss=63.616168100256715, w0=22.740396976084455, w1=59.94608760374451\n",
      "Gradient Descent(29/49): loss=57.29080452572063, w0=27.795749478686528, w1=55.299450086868966\n",
      "Gradient Descent(30/49): loss=51.60007432858219, w0=32.3455667310284, w1=51.11747632168097\n",
      "Gradient Descent(31/49): loss=46.48094422579982, w0=36.4404022581361, w1=47.353699933011775\n",
      "Gradient Descent(32/49): loss=41.87624896900553, w0=40.12575423253302, w1=43.966301183209495\n",
      "Gradient Descent(33/49): loss=37.73515064357372, w0=43.442571009490244, w1=40.91764230838744\n",
      "Gradient Descent(34/49): loss=34.012047175317306, w0=46.42770610875173, w1=38.1738493210476\n",
      "Gradient Descent(35/49): loss=30.665193519498494, w0=49.11432769808709, w1=35.704435632441744\n",
      "Gradient Descent(36/49): loss=27.658581103061803, w0=51.5322871284889, w1=33.48196331269647\n",
      "Gradient Descent(37/49): loss=24.958730322411846, w0=53.70845061585052, w1=31.481738224925728\n",
      "Gradient Descent(38/49): loss=22.53569084094297, w0=55.66699775447599, w1=29.681535645932055\n",
      "Gradient Descent(39/49): loss=20.363250503136005, w0=57.42969017923892, w1=28.061353324837754\n",
      "Gradient Descent(40/49): loss=18.415846037190615, w0=59.01611336152555, w1=26.603189235852884\n",
      "Gradient Descent(41/49): loss=16.671444625502097, w0=60.44389422558352, w1=25.290841555766498\n",
      "Gradient Descent(42/49): loss=15.112436507653076, w0=61.72889700323569, w1=24.109728643688754\n",
      "Gradient Descent(43/49): loss=13.722440917848397, w0=62.88539950312264, w1=23.046727022818782\n",
      "Gradient Descent(44/49): loss=12.482472538514395, w0=63.92625175302089, w1=22.09002556403581\n",
      "Gradient Descent(45/49): loss=11.379022425932893, w0=64.86301877792933, w1=21.228994251131134\n",
      "Gradient Descent(46/49): loss=10.401804087833984, w0=65.70610910034691, w1=20.454066069516923\n",
      "Gradient Descent(47/49): loss=9.53897010670755, w0=66.46489039052274, w1=19.756630706064133\n",
      "Gradient Descent(48/49): loss=8.781262846361427, w0=67.14779355168099, w1=19.128938878956625\n",
      "Gradient Descent(49/49): loss=8.116820197500312, w0=67.7624063967234, w1=18.564016234559865\n",
      "Gradient Descent: execution time=0.021 seconds\n"
     ]
    }
   ],
   "source": [
    "from plots import gradient_descent_visualization\n",
    "\n",
    "# Define the parameters of the algorithm.\n",
    "max_iters = 50\n",
    "gamma = 0.1\n",
    "\n",
    "# Initialization\n",
    "w_initial = np.array([-1000, 1000])\n",
    "\n",
    "# Start gradient descent.\n",
    "start_time = datetime.datetime.now()\n",
    "gradient_losses, gradient_ws = gradient_descent(y, tx, w_initial, max_iters, gamma)\n",
    "end_time = datetime.datetime.now()\n",
    "\n",
    "# Print result\n",
    "exection_time = (end_time - start_time).total_seconds()\n",
    "print(\"Gradient Descent: execution time={t:.3f} seconds\".format(t=exection_time))"
   ]
  },
  {
   "cell_type": "code",
   "execution_count": 79,
   "metadata": {
    "collapsed": false
   },
   "outputs": [
    {
     "data": {
      "image/png": "[encoded data removed]",
      "text/plain": [
       "<matplotlib.figure.Figure at 0x106a181d0>"
      ]
     },
     "metadata": {},
     "output_type": "display_data"
    }
   ],
   "source": [
    "# Time Visualization\n",
    "from ipywidgets import IntSlider, interact\n",
    "def plot_figure(n_iter):\n",
    "    fig = gradient_descent_visualization(\n",
    "        gradient_losses, gradient_ws, grid_losses, grid_w0, grid_w1, mean_x, std_x, height, weight, n_iter)\n",
    "    fig.set_size_inches(10.0, 6.0)\n",
    "\n",
    "interact(plot_figure, n_iter=IntSlider(min=1, max=len(gradient_ws)))"
   ]
  },
  {
   "cell_type": "code",
   "execution_count": null,
   "metadata": {
    "collapsed": true
   },
   "outputs": [],
   "source": []
  },
  {
   "cell_type": "markdown",
   "metadata": {},
   "source": [
    "# Stochastic gradient descent"
   ]
  },
  {
   "cell_type": "code",
   "execution_count": 120,
   "metadata": {
    "collapsed": true
   },
   "outputs": [],
   "source": [
    "def compute_stoch_gradient(y, tx, w):\n",
    "    \"\"\"Compute a stochastic gradient for batch data.\"\"\"\n",
    "    # ***************************************************\n",
    "    # INSERT YOUR CODE HERE\n",
    "    # TODO: implement stochastic gradient computation.It's same as the gradient descent. \n",
    "    # The only difference is later how to choose which gradient.\n",
    "    # ***************************************************\n",
    "    fxn = np.dot(tx,w) \n",
    "    e = y - fxn # vector with N values\n",
    "    N = len(y)\n",
    "    gradient = -1/N * np.dot(np.transpose(tx),e)\n",
    "    return gradient\n",
    "\n",
    "def stochastic_gradient_descent(y, tx, initial_w, batch_size, max_epochs, gamma):\n",
    "    \"\"\"Stochastic gradient descent algorithm.\"\"\"\n",
    "    # ***************************************************\n",
    "    # INSERT YOUR CODE HERE\n",
    "    # TODO: implement stochastic gradient descent.\n",
    "    # ***************************************************\n",
    "    ws = [initial_w]\n",
    "    losses = [compute_loss(y,tx,initial_w)]\n",
    "    w = initial_w\n",
    "    \n",
    "    for minibatch_y, minibatch_tx in batch_iter(y, tx, batch_size):\n",
    "        gradient = compute_stoch_gradient(minibatch_y, minibatch_tx, w)\n",
    "        w = w - gamma * gradient\n",
    "        ws.append(np.copy(w))\n",
    "        loss = compute_loss(y,tx,w)\n",
    "        losses.append(loss)\n",
    "    print(ws)\n",
    "    print(losses)\n",
    "            \n",
    "    return losses, ws"
   ]
  },
  {
   "cell_type": "code",
   "execution_count": 121,
   "metadata": {
    "collapsed": false
   },
   "outputs": [
    {
     "name": "stdout",
     "output_type": "stream",
     "text": [
      "[ 90.18974297] [[ 1.          1.14213913]]\n"
     ]
    }
   ],
   "source": [
    "for minibatch_y, minibatch_tx in batch_iter(y, tx, 1):\n",
    "    # print(minibatch_y) # minibatch_y is an array with 32 elements of random things from y\n",
    "    print(minibatch_y, minibatch_tx) # minibatch_x is an array of 32 tuples of tx"
   ]
  },
  {
   "cell_type": "code",
   "execution_count": 122,
   "metadata": {
    "collapsed": false
   },
   "outputs": [
    {
     "name": "stdout",
     "output_type": "stream",
     "text": [
      "[array([ 0.,  0.]), array([ 34.17369227,  29.99836226])]\n",
      "[73.293922002105177, 39.236634899609754]\n",
      "SGD: execution time=0.007 seconds\n"
     ]
    }
   ],
   "source": [
    "# Define the parameters of the algorithm.\n",
    "max_iters = 50\n",
    "gamma = 0.4\n",
    "batch_size = 1\n",
    "\n",
    "# Initialization\n",
    "w_initial = np.array([0.0, 0.0])\n",
    "\n",
    "# Start SGD.\n",
    "start_time = datetime.datetime.now()\n",
    "gradient_losses, gradient_ws = stochastic_gradient_descent(\n",
    "    y, tx, w_initial, batch_size, max_iters, gamma)\n",
    "end_time = datetime.datetime.now()\n",
    "\n",
    "# Print result\n",
    "exection_time = (end_time - start_time).total_seconds()\n",
    "print(\"SGD: execution time={t:.3f} seconds\".format(t=exection_time))"
   ]
  },
  {
   "cell_type": "code",
   "execution_count": 123,
   "metadata": {
    "collapsed": false
   },
   "outputs": [
    {
     "data": {
      "image/png": "[encoded data removed]",
      "text/plain": [
       "<matplotlib.figure.Figure at 0x106a14128>"
      ]
     },
     "metadata": {},
     "output_type": "display_data"
    }
   ],
   "source": [
    "# Time Visualization\n",
    "from ipywidgets import IntSlider, interact\n",
    "def plot_figure(n_iter):\n",
    "    fig = gradient_descent_visualization(\n",
    "        gradient_losses, gradient_ws, grid_losses, grid_w0, grid_w1, mean_x, std_x, height, weight, n_iter)\n",
    "    fig.set_size_inches(10.0, 6.0)\n",
    "\n",
    "interact(plot_figure, n_iter=IntSlider(min=1, max=len(gradient_ws)))"
   ]
  },
  {
   "cell_type": "code",
   "execution_count": null,
   "metadata": {
    "collapsed": true
   },
   "outputs": [],
   "source": []
  }
 ],
 "metadata": {
  "anaconda-cloud": {},
  "kernelspec": {
   "display_name": "Python 3",
   "language": "python",
   "name": "python3"
  },
  "language_info": {
   "codemirror_mode": {
    "name": "ipython",
    "version": 3
   },
   "file_extension": ".py",
   "mimetype": "text/x-python",
   "name": "python",
   "nbconvert_exporter": "python",
   "pygments_lexer": "ipython3",
   "version": "3.5.1"
  }
 },
 "nbformat": 4,
 "nbformat_minor": 0
}
